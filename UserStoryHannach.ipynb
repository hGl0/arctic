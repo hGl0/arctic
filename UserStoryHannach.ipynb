{
 "cells": [
  {
   "cell_type": "code",
   "id": "initial_id",
   "metadata": {
    "collapsed": true,
    "ExecuteTime": {
     "end_time": "2025-03-23T18:33:59.638042Z",
     "start_time": "2025-03-23T18:33:58.834067Z"
    }
   },
   "source": [
    "import src.arctic as arctic\n",
    "import pandas as pd\n",
    "import matplotlib.pyplot as plt\n",
    "import numpy as np"
   ],
   "outputs": [],
   "execution_count": 1
  },
  {
   "metadata": {
    "ExecuteTime": {
     "end_time": "2025-03-23T18:33:59.640496Z",
     "start_time": "2025-03-23T18:33:59.639025Z"
    }
   },
   "cell_type": "code",
   "source": "",
   "id": "cc5794247df94e78",
   "outputs": [],
   "execution_count": 1
  },
  {
   "metadata": {},
   "cell_type": "markdown",
   "source": [
    "### Data\n",
    "- provided by the Institute of Atmospheric Physics Kühlungsborn (IAP)\n",
    "- ERA5: daily means at pressure levels and analysis\n",
    "    - Intercomparison with Hannachi et al. (2011)\n",
    "    - SWE1.tar: contains major warming diagnostics\n",
    "    - SWE1.tar: elliptic diagnostics of Z10\n",
    "    - SWX1.tar: extended diagnostics (reachable via VPN)\n",
    "    - SWC1.tar: classfiication synthesis (reachable via VPN)\n",
    "\n",
    "#### File structure\n",
    "netCDF files are 3-dimensional data, investigated with ncdump. The .tar-files contain all output from Christoph Zülickes diagnosis, in particular:\n",
    "- SWM: ASCII values in 2 files, \n",
    "    1. *cen.csv with the major warming events as identified with their central day when the wind turned from westerly to easterly along with some characteristics and\n",
    "    2. *msw.csv with daily lists with wind and a marker mw for major warming\n",
    "- SWE: 1 csv file\n",
    "    - *d.csv: daily list of indices, including the aspect ratio of the mother vortex (ar), centrail latitude (latcent) and area (area)"
   ],
   "id": "7e385f24854a387c"
  },
  {
   "metadata": {
    "ExecuteTime": {
     "end_time": "2025-03-23T18:33:59.786651Z",
     "start_time": "2025-03-23T18:33:59.641096Z"
    }
   },
   "cell_type": "code",
   "source": [
    "# Skips all lines starting with C\n",
    "# Reads only lines starting with D\n",
    "def read_data(input_file):\n",
    "    with open(input_file, \"r\", encoding=\"utf-8\") as f:\n",
    "        filtered_lines = [line for line in f if line.startswith(\"D\")]\n",
    "    \n",
    "    # Convert filtered lines into DataFrame\n",
    "    from io import StringIO\n",
    "    df = pd.read_csv(\n",
    "        StringIO(\"\".join(filtered_lines)),\n",
    "        delimiter=\",\",\n",
    "        low_memory=False\n",
    "    )\n",
    "    return df\n",
    "\n",
    "era5_d = read_data(\"data/SWXClust/ERA5/e5e1_d.csv\")\n",
    "era5_cen = read_data(\"data/SWXClust/ERA5/e5m1t-cen.csv\")\n",
    "era5_msw = read_data(\"data/SWXClust/ERA5/e5m1t-msw.csv\")"
   ],
   "id": "fd56564474bf42fc",
   "outputs": [],
   "execution_count": 2
  },
  {
   "metadata": {
    "ExecuteTime": {
     "end_time": "2025-03-23T18:34:01.567094Z",
     "start_time": "2025-03-23T18:33:59.788318Z"
    }
   },
   "cell_type": "code",
   "source": [
    "# delete space in front of strings\n",
    "def no_white_space(df, sep = ' '):\n",
    "    col = []\n",
    "    for c in df.columns:\n",
    "        col.append(c.split(sep)[-1])\n",
    "    df.columns = col\n",
    "    \n",
    "# convert strings to actual dates\n",
    "def to_date(df, col, format='mixed'):\n",
    "    df[col] = pd.to_datetime(df[col], format=format)\n",
    "\n",
    "# remove white space from column names\n",
    "no_white_space(era5_d)\n",
    "no_white_space(era5_cen)\n",
    "no_white_space(era5_msw)\n",
    "\n",
    "# change string to datetime for better comparison\n",
    "to_date(era5_d, 'string')\n",
    "to_date(era5_cen, 'string')\n",
    "to_date(era5_msw, 'string')\n",
    "\n",
    "era5_d.head()"
   ],
   "id": "ef033fa29055b3e2",
   "outputs": [
    {
     "data": {
      "text/plain": [
       "   D  counter        time              string  year  month  day  hour  \\\n",
       "0  D        1  2438031.25 1963-01-01 18:00:00  1963      1    1    18   \n",
       "1  D        2  2438032.25 1963-02-01 18:00:00  1963      1    2    18   \n",
       "2  D        3  2438033.25 1963-03-01 18:00:00  1963      1    3    18   \n",
       "3  D        4  2438034.25 1963-04-01 18:00:00  1963      1    4    18   \n",
       "4  D        5  2438035.25 1963-05-01 18:00:00  1963      1    5    18   \n",
       "\n",
       "     level  edge  ...            obj_area2             latcent2  \\\n",
       "0     10.0  29.2  ...                                             \n",
       "1     10.0  29.2  ...                                             \n",
       "2     10.0  29.2  ...                                             \n",
       "3     10.0  29.2  ...                                             \n",
       "4     10.0  29.2  ...                                             \n",
       "\n",
       "              loncent2               theta2                  ar2  amp0  \\\n",
       "0                                                                 27.9   \n",
       "1                                                                 27.9   \n",
       "2                                                                 27.9   \n",
       "3                                                                 27.8   \n",
       "4                                                                 27.8   \n",
       "\n",
       "      amp1    amp2 lon1 lon2  \n",
       "0  0.01040  0.0111  5.4 -2.5  \n",
       "1  0.00858  0.0097  3.3 -2.3  \n",
       "2  0.01120  0.0123  0.4 -2.7  \n",
       "3  0.01190  0.0126  2.1 -2.5  \n",
       "4  0.01080  0.0117  7.1 -2.5  \n",
       "\n",
       "[5 rows x 35 columns]"
      ],
      "text/html": [
       "<div>\n",
       "<style scoped>\n",
       "    .dataframe tbody tr th:only-of-type {\n",
       "        vertical-align: middle;\n",
       "    }\n",
       "\n",
       "    .dataframe tbody tr th {\n",
       "        vertical-align: top;\n",
       "    }\n",
       "\n",
       "    .dataframe thead th {\n",
       "        text-align: right;\n",
       "    }\n",
       "</style>\n",
       "<table border=\"1\" class=\"dataframe\">\n",
       "  <thead>\n",
       "    <tr style=\"text-align: right;\">\n",
       "      <th></th>\n",
       "      <th>D</th>\n",
       "      <th>counter</th>\n",
       "      <th>time</th>\n",
       "      <th>string</th>\n",
       "      <th>year</th>\n",
       "      <th>month</th>\n",
       "      <th>day</th>\n",
       "      <th>hour</th>\n",
       "      <th>level</th>\n",
       "      <th>edge</th>\n",
       "      <th>...</th>\n",
       "      <th>obj_area2</th>\n",
       "      <th>latcent2</th>\n",
       "      <th>loncent2</th>\n",
       "      <th>theta2</th>\n",
       "      <th>ar2</th>\n",
       "      <th>amp0</th>\n",
       "      <th>amp1</th>\n",
       "      <th>amp2</th>\n",
       "      <th>lon1</th>\n",
       "      <th>lon2</th>\n",
       "    </tr>\n",
       "  </thead>\n",
       "  <tbody>\n",
       "    <tr>\n",
       "      <th>0</th>\n",
       "      <td>D</td>\n",
       "      <td>1</td>\n",
       "      <td>2438031.25</td>\n",
       "      <td>1963-01-01 18:00:00</td>\n",
       "      <td>1963</td>\n",
       "      <td>1</td>\n",
       "      <td>1</td>\n",
       "      <td>18</td>\n",
       "      <td>10.0</td>\n",
       "      <td>29.2</td>\n",
       "      <td>...</td>\n",
       "      <td></td>\n",
       "      <td></td>\n",
       "      <td></td>\n",
       "      <td></td>\n",
       "      <td></td>\n",
       "      <td>27.9</td>\n",
       "      <td>0.01040</td>\n",
       "      <td>0.0111</td>\n",
       "      <td>5.4</td>\n",
       "      <td>-2.5</td>\n",
       "    </tr>\n",
       "    <tr>\n",
       "      <th>1</th>\n",
       "      <td>D</td>\n",
       "      <td>2</td>\n",
       "      <td>2438032.25</td>\n",
       "      <td>1963-02-01 18:00:00</td>\n",
       "      <td>1963</td>\n",
       "      <td>1</td>\n",
       "      <td>2</td>\n",
       "      <td>18</td>\n",
       "      <td>10.0</td>\n",
       "      <td>29.2</td>\n",
       "      <td>...</td>\n",
       "      <td></td>\n",
       "      <td></td>\n",
       "      <td></td>\n",
       "      <td></td>\n",
       "      <td></td>\n",
       "      <td>27.9</td>\n",
       "      <td>0.00858</td>\n",
       "      <td>0.0097</td>\n",
       "      <td>3.3</td>\n",
       "      <td>-2.3</td>\n",
       "    </tr>\n",
       "    <tr>\n",
       "      <th>2</th>\n",
       "      <td>D</td>\n",
       "      <td>3</td>\n",
       "      <td>2438033.25</td>\n",
       "      <td>1963-03-01 18:00:00</td>\n",
       "      <td>1963</td>\n",
       "      <td>1</td>\n",
       "      <td>3</td>\n",
       "      <td>18</td>\n",
       "      <td>10.0</td>\n",
       "      <td>29.2</td>\n",
       "      <td>...</td>\n",
       "      <td></td>\n",
       "      <td></td>\n",
       "      <td></td>\n",
       "      <td></td>\n",
       "      <td></td>\n",
       "      <td>27.9</td>\n",
       "      <td>0.01120</td>\n",
       "      <td>0.0123</td>\n",
       "      <td>0.4</td>\n",
       "      <td>-2.7</td>\n",
       "    </tr>\n",
       "    <tr>\n",
       "      <th>3</th>\n",
       "      <td>D</td>\n",
       "      <td>4</td>\n",
       "      <td>2438034.25</td>\n",
       "      <td>1963-04-01 18:00:00</td>\n",
       "      <td>1963</td>\n",
       "      <td>1</td>\n",
       "      <td>4</td>\n",
       "      <td>18</td>\n",
       "      <td>10.0</td>\n",
       "      <td>29.2</td>\n",
       "      <td>...</td>\n",
       "      <td></td>\n",
       "      <td></td>\n",
       "      <td></td>\n",
       "      <td></td>\n",
       "      <td></td>\n",
       "      <td>27.8</td>\n",
       "      <td>0.01190</td>\n",
       "      <td>0.0126</td>\n",
       "      <td>2.1</td>\n",
       "      <td>-2.5</td>\n",
       "    </tr>\n",
       "    <tr>\n",
       "      <th>4</th>\n",
       "      <td>D</td>\n",
       "      <td>5</td>\n",
       "      <td>2438035.25</td>\n",
       "      <td>1963-05-01 18:00:00</td>\n",
       "      <td>1963</td>\n",
       "      <td>1</td>\n",
       "      <td>5</td>\n",
       "      <td>18</td>\n",
       "      <td>10.0</td>\n",
       "      <td>29.2</td>\n",
       "      <td>...</td>\n",
       "      <td></td>\n",
       "      <td></td>\n",
       "      <td></td>\n",
       "      <td></td>\n",
       "      <td></td>\n",
       "      <td>27.8</td>\n",
       "      <td>0.01080</td>\n",
       "      <td>0.0117</td>\n",
       "      <td>7.1</td>\n",
       "      <td>-2.5</td>\n",
       "    </tr>\n",
       "  </tbody>\n",
       "</table>\n",
       "<p>5 rows × 35 columns</p>\n",
       "</div>"
      ]
     },
     "execution_count": 3,
     "metadata": {},
     "output_type": "execute_result"
    }
   ],
   "execution_count": 3
  },
  {
   "metadata": {
    "ExecuteTime": {
     "end_time": "2025-03-23T18:34:01.606647Z",
     "start_time": "2025-03-23T18:34:01.568448Z"
    }
   },
   "cell_type": "code",
   "source": [
    "# merge era5 data to one big dataframe\n",
    "era5_all = era5_d.merge(era5_msw, on ='string', how='left', suffixes=[None, '_msw']).merge(era5_cen, on='string', how='left', suffixes = ['_d', '_cen'])\n",
    "\n",
    "# handling string encodings\n",
    "era5_all['form'] = era5_all['form'].replace({' D' : 0, ' S': 1})\n",
    "# handling NaN values and string encodings\n",
    "era5_all['MW'] = pd.to_numeric(era5_all.MW.replace({'   ': 0, ' MW' : 1}))\n",
    "era5_all[era5_cen.columns[-4:]] = era5_all[era5_cen.columns[-4:]].fillna(0) \n",
    "era5_all.columns"
   ],
   "id": "92d5a3c6315613af",
   "outputs": [
    {
     "data": {
      "text/plain": [
       "Index(['D_d', 'counter_d', 'time_d', 'string', 'year', 'month', 'day', 'hour',\n",
       "       'level', 'edge', 'form', 'area', 'obj_area', 'latcent', 'loncent',\n",
       "       'theta', 'ar', 'kurtosis', 'area1', 'obj_area1', 'latcent1', 'loncent1',\n",
       "       'theta1', 'ar1', 'area2', 'obj_area2', 'latcent2', 'loncent2', 'theta2',\n",
       "       'ar2', 'amp0', 'amp1', 'amp2', 'lon1', 'lon2', 'D_msw', 'counter_msw',\n",
       "       'time_msw', 'u', 'MW', 'D_cen', 'num', 'counter_cen', 'time_cen',\n",
       "       'pers', 'Umax', 'Imax', 'Iacc'],\n",
       "      dtype='object')"
      ]
     },
     "execution_count": 4,
     "metadata": {},
     "output_type": "execute_result"
    }
   ],
   "execution_count": 4
  },
  {
   "metadata": {},
   "cell_type": "markdown",
   "source": [
    "## Reconstruction of same conditions as Hannachi et al.\n",
    "- time: winterperiod (december to march) from 1958 to 2002, activity peaks in dec - jan, oscilliation period around 120-130d\n",
    "    - **Note**: only data after 1963 available \n",
    "- 7 stratospheeric variables:\n",
    "\n",
    "| temp. (lat1) | temp (lat2) |temp. (lat3) | avg. zon. wind (lat1) | avg. zon. wind (lat2) | wave-1                    | wave-2                    |\n",
    "|--------------|-------------|------------------|-----------------------|-----------------------|---------------------------|---------------------------|\n",
    "| Zonally averaged | Zonally averaged | Zonally averaged | Zonally averaged <br/ | Zonally averaged      | Normalised by zonal winds | Normalised by zonal winds |\n",
    "| 60-70°N      | 70-80°N     | 80-90°N          | 60-70°N               | 70-80°N               | 60°N                      | 60°N                      |\n",
    "\n",
    "- 7 pressure levels between 100 to 1hPa\n",
    "- geometrical features: latitude centroid (lat), area (area), aspect ratio (AR) - kurtosis omitted due to skewness\n",
    "\n",
    "#### Approaches\n",
    "1. Hierarchical Clustering\n",
    "    - Used distance: Euclidean distance\n",
    "    - Distance between Cluster: Complete Linkage to avoid chain and spheroidal tendencies of single and average linkage\n",
    "    - Gap statistic to find number of clusters with Poisson point process (standard)\n",
    "    - SSA to deal with seasonality and its variation\n",
    "\n",
    "|               | between points in Cluster | Different                                  |\n",
    "|---------------|---------------------------|--------------------------------------------|\n",
    "| Closest       | Single Linkage            | Centroid Linkage                           |\n",
    "| Most Distance | **Complete Linkage**      | Average Linkage (Average of all distances) |"
   ],
   "id": "f849545b50f44ce0"
  },
  {
   "metadata": {
    "ExecuteTime": {
     "end_time": "2025-03-23T18:34:01.617903Z",
     "start_time": "2025-03-23T18:34:01.607550Z"
    }
   },
   "cell_type": "code",
   "source": [
    "# time constraints\n",
    "era5_hannachi = era5_all[(era5_all['string'] < '01-01-2003') & \n",
    "                     (era5_all['month']).isin([12,1,2,3])]\n",
    "\n",
    "era5_hannachi = era5_hannachi[['year', 'month', 'day', 'area', 'ar', 'latcent', 'kurtosis']]\n",
    "# check for completeness\n",
    "era5_hannachi.info()"
   ],
   "id": "487cb33b30586a99",
   "outputs": [
    {
     "name": "stdout",
     "output_type": "stream",
     "text": [
      "<class 'pandas.core.frame.DataFrame'>\n",
      "Index: 4850 entries, 0 to 14609\n",
      "Data columns (total 7 columns):\n",
      " #   Column    Non-Null Count  Dtype  \n",
      "---  ------    --------------  -----  \n",
      " 0   year      4850 non-null   int64  \n",
      " 1   month     4850 non-null   int64  \n",
      " 2   day       4850 non-null   int64  \n",
      " 3   area      4850 non-null   float64\n",
      " 4   ar        4850 non-null   float64\n",
      " 5   latcent   4850 non-null   float64\n",
      " 6   kurtosis  4850 non-null   float64\n",
      "dtypes: float64(4), int64(3)\n",
      "memory usage: 303.1 KB\n"
     ]
    }
   ],
   "execution_count": 5
  },
  {
   "metadata": {
    "ExecuteTime": {
     "end_time": "2025-03-23T18:35:10.667333Z",
     "start_time": "2025-03-23T18:35:10.620471Z"
    }
   },
   "cell_type": "code",
   "source": "from sklearn.cluster import AgglomerativeClustering",
   "id": "d1ad2d64b2640357",
   "outputs": [],
   "execution_count": 11
  },
  {
   "metadata": {
    "ExecuteTime": {
     "end_time": "2025-03-23T18:35:11.076483Z",
     "start_time": "2025-03-23T18:35:11.073417Z"
    }
   },
   "cell_type": "code",
   "source": [
    "def generate_reference_HPPP(X,\n",
    "                            **kwargs):\n",
    "    \"\"\"\n",
    "    Generate reference data as homogeneous poisson point process.\n",
    "\n",
    "    Parameters:\n",
    "    X: array-like, shape (n_samples, n_features)\n",
    "        The input data.\n",
    "    n_samples (optional): int\n",
    "        Fixed number of samples to generate.\n",
    "    lambda_ (optional): int\n",
    "        Average number of samples to generate (point density).\n",
    "\n",
    "    Returns:\n",
    "    array-like: Randomly generated reference dataset.\n",
    "    \"\"\"\n",
    "    n_samples = kwargs.get('n_samples', None)\n",
    "    lambda_ = kwargs.get('lambda_', None)\n",
    "    \n",
    "    min_vals = X.min(axis=0)\n",
    "    max_vals = X.max(axis=0)\n",
    "    \n",
    "    # Set intensity lambda (average number of points\n",
    "    if n_samples is None:\n",
    "        if lambda_ is None:\n",
    "            lambda_ = len(X)\n",
    "        n_samples = np.random.poisson(lambda_)\n",
    "    \n",
    "    return np.random.uniform(low=min_vals, high=max_vals, size=(n_samples, X.shape[1]))\n",
    " "
   ],
   "id": "99dd048e773160fd",
   "outputs": [],
   "execution_count": 12
  },
  {
   "metadata": {
    "ExecuteTime": {
     "end_time": "2025-03-23T18:35:11.454619Z",
     "start_time": "2025-03-23T18:35:11.451595Z"
    }
   },
   "cell_type": "code",
   "source": [
    "from scipy.spatial.distance import pdist\n",
    "def within_cluster_dispsersion(X, labels):\n",
    "    \"\"\"\n",
    "    Compute the within-cluster dispersion (Wk) for hierarchical clustering.\n",
    "    \n",
    "    Parameters:\n",
    "    X: array-like, shape (n_samples, n_featues)\n",
    "        The input data.\n",
    "    labels: array-like, shape (n_samples,)\n",
    "        Cluster labels for each sample.\n",
    "\n",
    "    Returns:\n",
    "    float: The \n",
    "    \"\"\"\n",
    "    Wk = 0\n",
    "    unique_clusters = np.unique(labels)\n",
    "    \n",
    "    for cluster in unique_clusters:\n",
    "        cluster_points = X[labels == cluster]\n",
    "        n_m = len(cluster_points)\n",
    "        \n",
    "        if n_m > 1:\n",
    "            D_m = np.sum(pdist(cluster_points, metric='euclidean'))\n",
    "            Wk += D_m/(2*n_m)\n",
    "    return Wk"
   ],
   "id": "f6e0b38552695675",
   "outputs": [],
   "execution_count": 13
  },
  {
   "metadata": {
    "ExecuteTime": {
     "end_time": "2025-03-23T18:38:00.587654Z",
     "start_time": "2025-03-23T18:37:24.558088Z"
    }
   },
   "cell_type": "code",
   "source": [
    "\n",
    "def compute_gap_statistic(X, k_max, n_replicates=10, **kwargs):\n",
    "    n_samples = kwargs.get('n_samples', None)\n",
    "    \"\"\"\n",
    "    Compute the Gap Statistic for a range of cluster numbers using Agglomerative Clustering.\n",
    "\n",
    "    Parameters:\n",
    "    X: array-like, shape (n_samples, n_features)\n",
    "        The input data.\n",
    "    k_max: int\n",
    "        The maximum number of clusters to evaluate.\n",
    "    n_replicates: int\n",
    "        The number of bootstrap samples.\n",
    "\n",
    "    Returns:\n",
    "    gap_values: list\n",
    "        The calculated gap values for each k.\n",
    "    \"\"\"\n",
    "    gap_values = []\n",
    "    \n",
    "    for k in range(1, k_max + 1):\n",
    "        # Fit Agglomerative Clustering to the original data\n",
    "        clustering = AgglomerativeClustering(n_clusters=k, linkage='average')\n",
    "        labels = clustering.fit_predict(X)\n",
    "        original_Wk = within_cluster_dispsersion(X, labels)\n",
    "\n",
    "        # Compute the reference dispersion values\n",
    "        reference_Wk_values = []\n",
    "        for _ in range(n_replicates):\n",
    "            if n_samples:\n",
    "                random_data = generate_reference_HPPP(X, n_samples=n_samples) # fixed sample size\n",
    "            else:\n",
    "                random_data = generate_reference_HPPP(X) # on average as many samples as in dataset\n",
    "            clustering = AgglomerativeClustering(n_clusters=k, linkage='average')\n",
    "            random_labels = clustering.fit_predict(random_data)\n",
    "            reference_Wk_values.append(within_cluster_dispsersion(random_data, random_labels))\n",
    "\n",
    "        # Compute log(Wk*) statistics\n",
    "        log_Wk_star = np.log(reference_Wk_values)\n",
    "        mean_log_Wk_star = np.mean(log_Wk_star)\n",
    "        std_log_Wk_star = np.std(log_Wk_star)\n",
    "        print(\"For k = \", k)\n",
    "        print(\"Log(Wk*): \", log_Wk_star)\n",
    "        print(\"Mean(log(Wk*)): \", mean_log_Wk_star)\n",
    "        print(\"Log(Wk): \", np.log(original_Wk))\n",
    "        \n",
    "        # Compute inflated standard deviation\n",
    "        s_k = std_log_Wk_star * np.sqrt(1 + (1 / n_replicates))\n",
    "\n",
    "        # Compute Gap statistic\n",
    "        gap = mean_log_Wk_star - np.log(original_Wk)\n",
    "        gap_values.append((gap, s_k))\n",
    "\n",
    "    return np.array(gap_values)\n",
    "\n",
    "gap_values = compute_gap_statistic(era5_hannachi[['ar', 'latcent']], k_max=10)"
   ],
   "id": "c98af131445a9fc9",
   "outputs": [
    {
     "name": "stdout",
     "output_type": "stream",
     "text": [
      "For k =  1\n",
      "Log(Wk*):  [9.52989759 9.56790477 9.53642938 9.53496335 9.5235875  9.52288937\n",
      " 9.52469034 9.51849397 9.53622117 9.52296601]\n",
      "Mean(log(Wk*)):  9.531804345031997\n",
      "Log(Wk):  9.006698140144469\n",
      "For k =  2\n",
      "Log(Wk*):  [8.89712077 8.85357887 8.89281344 8.91771225 8.88300967 8.89144777\n",
      " 8.95345494 8.94350488 8.98917569 8.87078898]\n",
      "Mean(log(Wk*)):  8.909260726667242\n",
      "Log(Wk):  8.85897907256356\n",
      "For k =  3\n",
      "Log(Wk*):  [8.53187059 8.56380079 8.52520384 8.53189172 8.53088581 8.60096601\n",
      " 8.5453309  8.53678443 8.56471428 8.58188484]\n",
      "Mean(log(Wk*)):  8.551333320273773\n",
      "Log(Wk):  8.39397893922357\n",
      "For k =  4\n",
      "Log(Wk*):  [8.26252841 8.27592991 8.31816753 8.29915732 8.25953681 8.27599596\n",
      " 8.28001054 8.27192838 8.25639325 8.30515191]\n",
      "Mean(log(Wk*)):  8.280480002971869\n",
      "Log(Wk):  8.389017182893385\n",
      "For k =  5\n",
      "Log(Wk*):  [8.1159712  8.1246099  8.17286926 8.15376861 8.08656587 8.15528383\n",
      " 8.09502898 8.1123534  8.12866392 8.09008345]\n",
      "Mean(log(Wk*)):  8.1235198426517\n",
      "Log(Wk):  8.003972601085698\n",
      "For k =  6\n",
      "Log(Wk*):  [8.01092715 7.9481529  7.97090376 8.02539663 7.94279562 8.00084297\n",
      " 7.97851858 7.98636598 7.95692236 7.9571506 ]\n",
      "Mean(log(Wk*)):  7.977797655045812\n",
      "Log(Wk):  7.839915820649368\n",
      "For k =  7\n",
      "Log(Wk*):  [7.85385202 7.89111247 7.87380866 7.87912357 7.82121315 7.84634151\n",
      " 7.88732647 7.83881524 7.86921292 7.81756713]\n",
      "Mean(log(Wk*)):  7.857837312320699\n",
      "Log(Wk):  7.816480299590461\n",
      "For k =  8\n",
      "Log(Wk*):  [7.72687355 7.76110625 7.72358072 7.78354572 7.7743987  7.74203538\n",
      " 7.73956448 7.74614489 7.78134375 7.75612931]\n",
      "Mean(log(Wk*)):  7.753472274810688\n",
      "Log(Wk):  7.553976221046269\n",
      "For k =  9\n",
      "Log(Wk*):  [7.7065751  7.70793664 7.70665585 7.71482896 7.72861755 7.70868184\n",
      " 7.69300092 7.71414174 7.70183327 7.70088181]\n",
      "Mean(log(Wk*)):  7.708315368447776\n",
      "Log(Wk):  7.484972072680018\n",
      "For k =  10\n",
      "Log(Wk*):  [7.60955708 7.6328187  7.65851894 7.61731093 7.63364249 7.65590712\n",
      " 7.63694097 7.64142813 7.62420306 7.67296734]\n",
      "Mean(log(Wk*)):  7.638329476257961\n",
      "Log(Wk):  7.346554825206615\n"
     ]
    }
   ],
   "execution_count": 18
  },
  {
   "metadata": {
    "ExecuteTime": {
     "end_time": "2025-03-23T18:38:00.590940Z",
     "start_time": "2025-03-23T18:38:00.588660Z"
    }
   },
   "cell_type": "code",
   "source": [
    "for k in range(len(gap_values)-1):\n",
    "    if gap_values[k, 0] >= gap_values[k+1, 0] - gap_values[k+1, 1]:\n",
    "        print(k+1)\n",
    "        break"
   ],
   "id": "2799b61d3891f7bd",
   "outputs": [
    {
     "name": "stdout",
     "output_type": "stream",
     "text": [
      "1\n"
     ]
    }
   ],
   "execution_count": 19
  },
  {
   "metadata": {
    "ExecuteTime": {
     "end_time": "2025-03-23T18:39:46.293077Z",
     "start_time": "2025-03-23T18:39:46.204780Z"
    }
   },
   "cell_type": "code",
   "source": "plt.errorbar(np.arange(2,11), gap_values[1:, 0], yerr=gap_values[1:, 1])\n",
   "id": "44067b338dbf14a8",
   "outputs": [
    {
     "data": {
      "text/plain": [
       "<ErrorbarContainer object of 3 artists>"
      ]
     },
     "execution_count": 33,
     "metadata": {},
     "output_type": "execute_result"
    },
    {
     "data": {
      "text/plain": [
       "<Figure size 640x480 with 1 Axes>"
      ],
      "image/png": "[encoded data removed]"
     },
     "metadata": {},
     "output_type": "display_data"
    }
   ],
   "execution_count": 33
  },
  {
   "metadata": {},
   "cell_type": "code",
   "source": [
    "\n",
    "X = era5_hannachi\n",
    "hc = AgglomerativeClustering(n_clusters=3,\n",
    "                             linkage='complete',\n",
    "                             compute_distances=True).fit(X)\n",
    "hc_label = hc.labels_"
   ],
   "id": "d9d9888905bdd7ee",
   "outputs": [],
   "execution_count": null
  },
  {
   "metadata": {},
   "cell_type": "code",
   "source": [
    "from sklearn.cluster import KMeans\n",
    "\n",
    "kmeans = KMeans(n_clusters=3, n_init='auto', random_state=42).fit(X)\n",
    "kmeans_label = kmeans.labels_"
   ],
   "id": "b66995137c762888",
   "outputs": [],
   "execution_count": null
  },
  {
   "metadata": {},
   "cell_type": "code",
   "source": [
    "era5_hannachi['hc'] = hc_label\n",
    "era5_hannachi['kmeans'] = kmeans_label\n",
    "# compare label with mw, c/d, s/d\n",
    "corr = era5_hannachi.corr()\n",
    "corr[['kmeans', 'hc']].style.background_gradient(vmin=-1, vmax=1, cmap='RdBu')"
   ],
   "id": "d4e4fae6907566b8",
   "outputs": [],
   "execution_count": null
  },
  {
   "metadata": {},
   "cell_type": "code",
   "source": [
    "print(era5_hannachi.shape)\n",
    "print(\"Label distribution by hierarchical clustering: \")\n",
    "print('0 : ', era5_hannachi[era5_hannachi.hc == 0].shape) # 74\n",
    "print('1 : ', era5_hannachi[era5_hannachi.hc == 1].shape) # 403\n",
    "print('2 : ', era5_hannachi[era5_hannachi.hc == 2].shape) # 4624\n",
    "\n",
    "print(\"Label distribution by kmeans clustering: \")\n",
    "print('0 : ', era5_hannachi[era5_hannachi.kmeans == 0].shape) # 74\n",
    "print('1 : ', era5_hannachi[era5_hannachi.kmeans == 1].shape) # 403\n",
    "print('2 : ', era5_hannachi[era5_hannachi.kmeans == 2].shape) # 4624\n",
    "print('3: ', era5_hannachi[era5_hannachi.kmeans==3].shape)"
   ],
   "id": "2ef6d9440bcaee07",
   "outputs": [],
   "execution_count": null
  },
  {
   "metadata": {},
   "cell_type": "markdown",
   "source": [
    "### Results from Hannachi et al.\n",
    "\n",
    "| AR and Latc of vortex/AR, Lat, filtered vortex area | D  | U  | S  | Total |\n",
    "|-----------------------------------------------------|----|----|----|-------|\n",
    "| D                                                   | 7  |  3 | 0  | 10    |\n",
    "| U                                                   | 4  | 80 | 2  | 86    |\n",
    "| S                                                   | 1  | 0  | 3  | 4     |\n",
    "| Total                                               | 12 | 83 | 5  | 100   |\n",
    "\n",
    "### Results with Agglomorative Clustering:\n",
    "\n",
    "| Label | Absolut | Perc (%) | Comment                                                                                                      |\n",
    "|-------|---------|----------|--------------------------------------------------------------------------------------------------------------|\n",
    "| 0     | 74      | 1,5      | Probably S<br/>Remains the same when removing other features<br/>74 when only area, latcent and ar were used |\n",
    "| 1     | 403     | 8        | Probably D  <br/> Varies wildly when features removed                                                        |\n",
    "| 2     | 4624    | 90,6     | Probably U  <br/>Varies wildly when features removed                                                         |\n",
    "| Total | 5101    | 100      | --                                                                                                           |\n",
    "\n",
    "Influence of different linkages:\n",
    "- complete: used by Hannachi, dendogram does not indicate 3 clusters\n",
    "- ward: appears similar to kmeans in distribution\n",
    "- single: makes very weird Cluster with distribution 70, 4, 5027; indicates 3 Clusters\n",
    "- average: makes also weird Cluster with distribution 70, 23, 5008; indicates 3 Clusters\n",
    "\n",
    "### Results with kmeans Clustering:\n",
    "\n",
    "| Label | Absolut | Perc (%)   | Comment                                                                                                      |\n",
    "|-------|---------|------------|--------------------------------------------------------------------------------------------------------------|\n",
    "| 0     | 2000    | 39,25      | Maybe D  <br/> Varies wildly, depending on features and random seed                                          |\n",
    "| 1     | 79      | 1,5        | Probably S<br/>Remains the same when removing other features<br/>74 when only area, latcent and ar were used |\n",
    "| 2     | 3022    | 59,25      | Maybe U  <br/>Varies wildly, just as D                                                                       |\n",
    "| Total | 5101    | 100        | --                                                                                                           \n",
    "\n",
    "#### Evaluation\n",
    "S and U are underrepresented. Different measures?\n",
    "Go for troubleshooting:\n",
    "- Outliers? (~75?)\n",
    "- Can I - based on my available data - differentiate between S, U, D?\n",
    "- Data differences (s. previous part)\n",
    "- Description of found cluster matching with Hannachi/general what are they?\n",
    "\n",
    "Hierarchical cluster depends severly on **area**"
   ],
   "id": "f017c9b2b8b902aa"
  },
  {
   "metadata": {},
   "cell_type": "code",
   "source": [
    "# Dendrogram\n",
    "arctic.plot.plot_dendrogram(hc, truncate_mode='level', p=3, savefig='output/hc.png')\n",
    "\n",
    "# Biplot\n",
    "pc=5\n",
    "#arctic.compute_pca(era5_hannachi, comp=pc, plot_type='3D', savefig='output/pca_era5_3D.png', n_arrows=2)\n",
    "#arctic.compute_pca(era5_hannachi, comp=pc, plot_type='2D', n_arrows=2, savefig='output/pca_era5_2D.png')\n",
    "# note \"label\" excluded from pca due to duplication of data.\n",
    "era5_hannachi['label'] = era5_hannachi['hc']\n",
    "arctic.compute_pca(era5_hannachi, comp=pc, plot_type='3D', savefig='output/pca_era5_hc_3D.png')\n",
    "arctic.compute_pca(era5_hannachi, comp=pc, plot_type='2D', savefig='output/pca_era5_hc_2D.png')\n",
    "#era5_hannachi['label'] = era5_hannachi['kmeans']\n",
    "#arctic.compute_pca(era5_hannachi, comp=pc, plot_type='3D', savefig='output/pca_era5_kmeans_3D.png')\n",
    "#arctic.compute_pca(era5_hannachi, comp=pc, plot_type='2D', savefig='output/pca_era5_kmeans_2D.png')\n",
    "\n",
    "# Radar chart\n",
    "def own_agg(x):\n",
    "    return x.quantile(0.75)\n",
    "arctic.plot.plot_radar(era5_hannachi, label='kmeans')\n",
    "arctic.plot.plot_radar(era5_hannachi, agg_func=own_agg)\n",
    "\n",
    "# Violinplot\n",
    "arctic.plot_violin(era5_hannachi)"
   ],
   "id": "447dd6aeac30f5cc",
   "outputs": [],
   "execution_count": null
  },
  {
   "metadata": {},
   "cell_type": "code",
   "source": [
    "# check time integrity of clustering\n",
    "print(\"Distribution cluster: \", era5_hannachi.hc.value_counts())\n",
    "print(\"Distribution form: \", era5_hannachi.form.value_counts())\n",
    "era5_hannachi.groupby(['year', 'hc']).count()['label']"
   ],
   "id": "742cd50ced113607",
   "outputs": [],
   "execution_count": null
  },
  {
   "metadata": {},
   "cell_type": "code",
   "source": "era5_hannachi.groupby(['form', 'hc']).count()['label']",
   "id": "c68181e4b2b775a5",
   "outputs": [],
   "execution_count": null
  },
  {
   "metadata": {},
   "cell_type": "code",
   "source": "",
   "id": "80cb22472f085ea6",
   "outputs": [],
   "execution_count": null
  }
 ],
 "metadata": {
  "kernelspec": {
   "display_name": "Python 3",
   "language": "python",
   "name": "python3"
  },
  "language_info": {
   "codemirror_mode": {
    "name": "ipython",
    "version": 2
   },
   "file_extension": ".py",
   "mimetype": "text/x-python",
   "name": "python",
   "nbconvert_exporter": "python",
   "pygments_lexer": "ipython2",
   "version": "2.7.6"
  }
 },
 "nbformat": 4,
 "nbformat_minor": 5
}
