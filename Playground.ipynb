{
 "cells": [
  {
   "cell_type": "code",
   "id": "initial_id",
   "metadata": {
    "collapsed": true,
    "jupyter": {
     "is_executing": true
    }
   },
   "source": [
    "from src.arctic import *\n",
    "import pandas as pd\n",
    "import matplotlib.pyplot as plt\n",
    "import numpy as np"
   ],
   "outputs": [],
   "execution_count": null
  },
  {
   "metadata": {},
   "cell_type": "markdown",
   "source": [
    "### Given Data\n",
    "- from Institute of Atmospheric Physics Kühlungsborn (IAP)\n",
    "- Differentiated between ERA5 and UA-ICON(NWP) data\n",
    "\n",
    "1. ERA5: daily means at pressure levels and analysis\n",
    "    - Intercomparison with Hannachi et al. (2011)\n",
    "    - SWE1.tar: contains major warming diagnostics\n",
    "    - SWE1.tar: elliptic diagnostics of Z10\n",
    "    - SWX1.tar: extended diagnostics (reachable via VPN)\n",
    "    - SWC1.tar: classfiication synthesis (reachable via VPN)\n",
    "2. NWP4A60: data at pressure levels and analysis\n",
    "    - SWM2.tar: major warming diagnostics\n",
    "    - SWE2.tar: elliptic diagnostics of Z10\n",
    "    - SWX2.tar: extended diagnostics (VPN)\n",
    "    - SWC2.tar: classification synthesis (VPN)\n",
    "\n",
    "#### File structure\n",
    "netCDF files are 3-dimensional data, investigated with ncdump. The .tar-files contain all output from Christoph Zülickes diagnosis, in particular:\n",
    "- SWM: ASCII values in 2 files, \n",
    "    1. *cen.csv with the major warming events as identified with their central day when the wind turned from westerly to easterly along with some characteristics and\n",
    "    2. *msw.csv with daily lists with wind and a marker mw for major warming\n",
    "- SWE: 1 csv file\n",
    "    - *d.csv: daily list of indices, including the aspect ratio of the mother vortex (ar), centrail latitude (latcent) and area (area)"
   ],
   "id": "7e385f24854a387c"
  },
  {
   "metadata": {
    "jupyter": {
     "is_executing": true
    }
   },
   "cell_type": "code",
   "source": [
    "# load data\n",
    "# preliminary, ideally include api from climate data storage (cds)\n",
    "\n",
    "# Skips all lines starting with C\n",
    "# Reads only lines starting with D\n",
    "def read_data(input_file):\n",
    "    with open(input_file, \"r\", encoding=\"utf-8\") as f:\n",
    "        filtered_lines = [line for line in f if line.startswith(\"D\")]\n",
    "    \n",
    "    # Convert filtered lines into DataFrame\n",
    "    from io import StringIO\n",
    "    df = pd.read_csv(\n",
    "        StringIO(\"\".join(filtered_lines)),\n",
    "        delimiter=\",\",\n",
    "        low_memory=False\n",
    "    )\n",
    "    return df\n",
    "\n",
    "era5_d = read_data(\"data/SWXClust/ERA5/e5e1_d.csv\")\n",
    "era5_cen = read_data(\"data/SWXClust/ERA5/e5m1t-cen.csv\")\n",
    "era5_msw = read_data(\"data/SWXClust/ERA5/e5m1t-msw.csv\")\n",
    "\n",
    "nwp_d = read_data(\"data/SWXClust/NWP4A60/i4a60e2_d.csv\")\n",
    "nwp_cen= read_data(\"data/SWXClust/NWP4A60/i4a60m2t-cen.csv\")\n",
    "nwp_msw = read_data(\"data/SWXClust/NWP4A60/i4a60m2t-msw.csv\")"
   ],
   "id": "fd56564474bf42fc",
   "outputs": [],
   "execution_count": null
  },
  {
   "metadata": {
    "jupyter": {
     "is_executing": true
    }
   },
   "cell_type": "code",
   "source": [
    "# delete space in front of strings\n",
    "def no_white_space(df, sep = ' '):\n",
    "    col = []\n",
    "    for c in df.columns:\n",
    "        col.append(c.split(sep)[-1])\n",
    "    df.columns = col\n",
    "    \n",
    "# convert strings to actual dates\n",
    "def to_date(df, col, format='mixed'):\n",
    "    df[col] = pd.to_datetime(df[col], format=format)\n",
    "\n",
    "# remove white space from column names\n",
    "no_white_space(era5_d)\n",
    "no_white_space(era5_cen)\n",
    "no_white_space(era5_msw)\n",
    "\n",
    "# no_white_space(nwp_d)\n",
    "# no_white_space(nwp_cen)\n",
    "# no_white_space(nwp_msw)\n",
    "\n",
    "\n",
    "# remove empty rows from files\n",
    "era5_d = era5_d[era5_d['string'].notna()]\n",
    "era5_cen = era5_cen[era5_cen['string'].notna()]\n",
    "era5_msw = era5_msw[era5_msw['string'].notna()]\n",
    "\n",
    "# nwp_d = nwp_d[nwp_d['string'].notna()]\n",
    "# nwp_cen = nwp_cen[nwp_cen['string'].notna()]\n",
    "# nwp_msw = nwp_msw[nwp_msw['string'].notna()]\n",
    "\n",
    "\n",
    "# change string to datetime for better comparison\n",
    "to_date(era5_d, 'string')\n",
    "to_date(era5_cen, 'string')\n",
    "to_date(era5_msw, 'string')\n",
    "\n",
    "# drop where string is nan (empty lines)\n",
    "era5_d = era5_d.replace('                   ' ,np.NaN)\n",
    "\n",
    "era5_d.head()"
   ],
   "id": "ef033fa29055b3e2",
   "outputs": [],
   "execution_count": null
  },
  {
   "metadata": {},
   "cell_type": "markdown",
   "source": [
    "## Features in data and their description\n",
    "#### for *cen files\n",
    "\n",
    "35x9\n",
    "\n",
    "| ERA5            | D_cen                       | num                   | counter_cen                                            | time_cen                 | string                  | pers                 | Umax                      | Imax                     | Iacc                            |\n",
    "|-----------------|-----------------------------|-----------------------|--------------------------------------------------------|--------------------------|-------------------------|----------------------|---------------------------|--------------------------|---------------------------------|\n",
    "| Values          | 'D'                         | [1,35]                | [26, 21189]                                            | [2438057.25, 2459220.35] | [1963-01-27,2021-05-01] | [2.0,29]             | [-26.9,-0.9]              | [1.7,780.1]              | [1.4,316.5]                     |\n",
    "| Explanation     | Line belongs to data in csv | Counter of SSW events | Central time counter <br/> index matching measurements | Julian central date      | human readable date     | persistence of event | max. east wind during SSW | max. SSW event intensity | accumulated SSW event intensity |\n",
    "| Condition       | -                           | -                     |                                                        |                          |                         |                      |                           |                          |                                 |\n",
    "| Normalization   | no                          | no                    |                                                        |                          |                         |                      |                           |                          |                                 |\n",
    "| Units           | -                           | -                     | run step                                               | run time                 | run time                | days                 | m/s                       | days m/s                 | days m/s                        |\n",
    "| Value for model | None                        | Probably none         | Merge key                                              | Merge key                | Merge key               |                      |                           |                          |                                 |\n",
    "\n",
    "#### for *msw files\n",
    "\n",
    "21914x6\n",
    "\n",
    "| ERA5            | D_msw          | counter_msw                                                 | time_msw                 | string                  | u             | MW                  |\n",
    "|-----------------|----------------|-------------------------------------------------------------|--------------------------|-------------------------|---------------|---------------------|\n",
    "| Values          | 'D'            | [1, 21914]                                                  | [2438032.25, 2459944.25] | String encoding of date | [-28.8, 73.5] | [0,1] (i.e. no/yes) |\n",
    "| Explanation     | Line with data | Counter of events, <br/>each daily measurement gets counter | Julian central date      | human readable date     | zonal wind    | marks major warming |\n",
    "| Condition       | -              |                                                             |                          |                         | ??            |                     |\n",
    "| Normalization   | no             | no                                                          |                          | no                      |               | no, encode as 0-1   |\n",
    "| Value for Model | None           | Merge key                                                   | Merge key                | Merge key               | include       | should be included  |\n",
    "\n",
    "\n",
    "\n",
    "#### for *d files\n",
    "\n",
    "22403x35\n",
    "\n",
    "21425 + 978 (D vs. S)\n",
    "\n",
    "**bold font**: unclear meaning\n",
    "\n",
    "| ERA5      | Values                   | Explanation                                                                                                  | Condition    | Normalisation  | Value for Model                                                                                           |\n",
    "|-----------|--------------------------|--------------------------------------------------------------------------------------------------------------|--------------|----------------|-----------------------------------------------------------------------------------------------------------|\n",
    "| D         | 'D'                      | Line with data                                                                                               |              | -              |                                                                                                           |\n",
    "| counter   | [1,21914]                | counter of daily measurements                                                                                | -            | -              |                                                                                                           |\n",
    "| time_d    | [2438031.25, 2459944.25] | Julian day                                                                                                   | -            |                | Merge Key                                                                                                 |\n",
    "| string    | [1963-01-01, 2022-12-30] | Human readable/string form of date                                                                           |              |                | Merge Key                                                                                                 |\n",
    "| year      | [1963                    | numeric form of year                                                                                         |              |                | useful                                                                                                    |\n",
    "| month     | [1,12]                   | numeric form of month                                                                                        |              |                | useful                                                                                                    |\n",
    "| day       | [1,31]                   | numeric form of day                                                                                          |              |                | useful                                                                                                    |\n",
    "| hour      | 18                       | numeric form of hour                                                                                         |              |                | None, daily measurement                                                                                   |\n",
    "| level     | 10                       | Pressure level in hPa, ca. 30km                                                                              |              |                | Currently not huge as not varied,  important for comparison with other studies                            |\n",
    "| **edge**  | [28.9,        32.3]      | Edge of Vortex? °N? Assumption as circle/ellipsoid around pole?<br/>Strong correlation with generated labels |              |                |                                                                                                           |\n",
    "| form     | [' D', ' S']             | Form of Vortex: <br/>Displaced (4599 in era5_hannachi), <br/> Split (502 in era5_hannachi)                   |              | Encode as int? | Important, evaluation of clusters                                                                         |\n",
    "| **area**  | [7105100.0,162460000.0]  | Area of Vortex [km^2]                                                                                        |              |                |                                                                                                           |\n",
    "| **obj_area** | [11163.0,  3850800.0]    | Objective area of vortex [km^2], diference to area?                                                          |              |                |                                                                                                           |\n",
    "| latcent   | [50.823, 89.966]         | Latitude of centre                                                                                           |              |                |                                                                                                           |\n",
    "| loncent   | [-89.993,269.95]         | Longitude of centre                                                                                          |              |                |                                                                                                           |\n",
    "| theta     | [-1.5707, 1.5797]        | angle of major axis                                                                                          |              |                |                                                                                                           |\n",
    "| ar        | [1.0001, 4.8253]         | Aspect ratio of polar vortex                                                                                 |              |                |                                                                                                           |\n",
    "| kurtosis  | [-0.81021,10.235]        | Kurtosis of polar vortex                                                                                     |              |                |                                                                                                           |\n",
    "| area1     | [na, 29034864.000]       | Area of split vortex 1 [km^2]                                                                                | Split event? |                | Important, but more for evaluation <br/> may irritate cluster algorithms (implicit information of events) |\n",
    "| obj_area1 | [na, 592939.812]         |                                                                                                              |              |                |                                                                                                           |\n",
    "| latcent1  | [na, 88.211]             | Latitude of centroid 1                                                                                       |              |                |                                                                                                           |\n",
    "| loncent1  | [na, 269.912]            | Longitude of centroid 1                                                                                      |              |                |                                                                                                           |\n",
    "| theta1    | [na, -1.569]             |                                                                                                              |              |                |                                                                                                           |\n",
    "| ar1       | [na, 3.651]              | Aspect ratio                                                                                                 |              |                |                                                                                                           |\n",
    "| area2     | [na, 33281544.000]       | Area of split vortex 2 [km^2]                                                                                |              |                |                                                                                                           |\n",
    "| obj_area2 | [na, 635659.312]         |                                                                                                              |              |                |                                                                                                           |\n",
    "| latcent2  | [na, 87.856]             |                                                                                                              |              |                |                                                                                                           |\n",
    "| loncent2  | [na, 202.300]            |                                                                                                              |              |                |                                                                                                           |\n",
    "| theta2    | [na, -1.570]             |                                                                                                              |              |                |                                                                                                           |\n",
    "| ar2       | [na, 4.117]              |                                                                                                              |              |                |                                                                                                           |\n",
    "| **amp0**  | [27.6, 32.3]             | zonal mean                                                                                                   |              |                |                                                                                                           |\n",
    "| **amp1**  | [0.000024,  0.0489]      | amplitude of wave 1                                                                                          |              |                |                                                                                                           |\n",
    "| **amp2**  | [0.000003, 0.0543]       | amplitude of wave 2                                                                                          |              |                |                                                                                                           |\n",
    "| **lon1**  | [-180.0, 180.0]          | angle of wave 1                                                                                              |              |                |                                                                                                           |\n",
    "| **lon2**  | [-180.0, 180.0]          | angle of wave 2                                                                                              |              |                |                                                                                                           |"
   ],
   "id": "c15e9ca3dc2c570e"
  },
  {
   "metadata": {},
   "cell_type": "markdown",
   "source": [
    "### Focus and To Do\n",
    "- [x] Understand relation between data sets, merge via 'string' (i.e. concrete date) possible\n",
    "- [x] ERA5 Data, replicate results from Hannachi\n",
    "- [ ] descriptive statistics:\n",
    "    - [ ] PSA/SSA\n",
    "    - [x] correlation matrix/chi2\n",
    "- [ ] hierarchical Clustering, k-means, k-nearest neighbours\n"
   ],
   "id": "d100c43535565f28"
  },
  {
   "metadata": {
    "jupyter": {
     "is_executing": true
    }
   },
   "cell_type": "code",
   "source": [
    "# merge era5 data to one big dataframe\n",
    "era5 = era5_d.merge(era5_msw, on ='string', how='left', suffixes=[None, '_msw']).merge(era5_cen, on='string', how='left', suffixes = ['_d', '_cen'])\n",
    "era5.columns"
   ],
   "id": "92d5a3c6315613af",
   "outputs": [],
   "execution_count": null
  },
  {
   "metadata": {},
   "cell_type": "markdown",
   "source": [
    "## Reconstruction of same conditions as Hannachi et al.\n",
    "- time: winterperiod (december to march) from 1958 to 2002, activity peaks in dec - jan, oscilliation period around 120-130d\n",
    "    - **Note: only data after 1963 available \n",
    "- 7 stratospheeric variables:\n",
    "\n",
    "| temp. (lat1)     | temp (lat2)      | temp. (lat3)     | avg. wind (lat1)      | avg. wind (lat2) | wave-1                    | wave-2                    |\n",
    "|------------------|------------------|------------------|-----------------------|------------------|---------------------------|---------------------------|\n",
    "| Zonally averaged | Zonally averaged | Zonally averaged | Zonally averaged <br/ | Zonally averaged | Normalised by zonal winds | Normalised by zonal winds |\n",
    "| 60-70°N          | 70-80°N          | 80-90°N          | 60-70°N               | 70-80°N          | 60°N                      | 60°N                      |\n",
    "\n",
    "- 7 pressure levels between 100 to 1hPa\n",
    "- geometrical features: latitude centroid (lat), area (area), aspect ratio (AR) - kurtosis omitted due to domination of outliers\n",
    "\n",
    "#### Approaches\n",
    "1. Hierarchical Clustering\n",
    "    - Used distance: Euclidean distance\n",
    "    - Distance between Cluster: Complete Linkage to avoid chain and spheroidal tendencies of single and average linkage\n",
    "    - Gap statistic to find number of clusters with Poisson point process (standard)\n",
    "    - SSA to deal with seasonality and its variation\n",
    "\n",
    "|               | between points in Cluster | Different                                  |\n",
    "|---------------|---------------------------|--------------------------------------------|\n",
    "| Closest       | Single Linkage            | Centroid Linkage                           |\n",
    "| Most Distance | **Complete Linkage**      | Average Linkage (Average of all distances) |"
   ],
   "id": "f849545b50f44ce0"
  },
  {
   "metadata": {
    "jupyter": {
     "is_executing": true
    }
   },
   "cell_type": "code",
   "source": [
    "# correlation within data\n",
    "plot.plot_correlation(era5, savefig=\"output/corr.png\")"
   ],
   "id": "58aaa3f751071b81",
   "outputs": [],
   "execution_count": null
  },
  {
   "metadata": {},
   "cell_type": "markdown",
   "source": [
    "    ## Jupyter Notebook to demonstrate usage of ARTIC\n",
    "### Open questions\n",
    "- Connectivity matrix from Hannachi et al.? Do they have one? With what created?\n",
    "- Different amount of samples between *_d and *_msw\n",
    "- Differences between era40 data and era5 data\n",
    "\n",
    "#### To Do\n",
    "- [ ] Check wie Cluster mit Daten/Split events zusammen passen\n",
    "- [ ] Check Area (big correlation with labels) and check what filtered area in Hannachi et al. is"
   ],
   "id": "c2fd6f7b52fe6a86"
  },
  {
   "metadata": {},
   "cell_type": "markdown",
   "source": [
    "### Handling NaN Values\n",
    "- *cen-file produces most NaN values in data due to merch and marking special events &rArr; 0 not used in *num, counter, time, pers, Imax, Iacc*,**Umax** has values only below -0.9 "
   ],
   "id": "4923148a8e5c2766"
  },
  {
   "metadata": {
    "jupyter": {
     "is_executing": true
    }
   },
   "cell_type": "code",
   "source": [
    "# reproduce same circumstances as hannachi et al.\n",
    "# time winterperiod (december to march) 1958 - 2002 \n",
    "var = ['year', 'month','day', # removed string so everything is a numeric datetype\n",
    "       'edge', 'theta',\n",
    "       'area', 'latcent', 'loncent', 'ar',  # geometric variables (latcent, area, ar, excess kurtosis) from Hannachi et al., level = 10 for all measurements -> droped\n",
    "       'amp0', 'amp1', 'amp2', 'lon1', 'lon2', # unclear importance, included in this version\n",
    "       'MW', 'u', # variables from *msw file\n",
    "       'pers', 'Umax', 'Imax', 'Iacc', # variables form *cen file\n",
    "       'form'] # Discuss! Usage of form!\n",
    "\n",
    "# enforce same time constraints\n",
    "era5_hannachi = era5[(era5['string'] < '01-01-2003') & \n",
    "                     (era5['month']).isin([12,1,2,3])][var]\n",
    "\n",
    "# handling NaN values and string encodings\n",
    "era5_hannachi['MW'] = pd.to_numeric(era5_hannachi.MW.replace({'   ': 0, ' MW' : 1}))\n",
    "era5_hannachi[era5_cen.columns[-4:]] = era5_hannachi[era5_cen.columns[-4:]].fillna(0) \n",
    "# check for completeness\n",
    "era5_hannachi.info()"
   ],
   "id": "487cb33b30586a99",
   "outputs": [],
   "execution_count": null
  },
  {
   "metadata": {},
   "cell_type": "markdown",
   "source": [
    "##### Assumption\n",
    "- Data are ready to use and preprocessed"
   ],
   "id": "f07d72747d4311ec"
  },
  {
   "metadata": {
    "jupyter": {
     "is_executing": true
    }
   },
   "cell_type": "code",
   "source": [
    "era5_hannachi['form'] = era5_hannachi['form'].replace({' D' : 0, ' S': 1})\n",
    "#var[:-1] # ohne D_d und form"
   ],
   "id": "d1ad2d64b2640357",
   "outputs": [],
   "execution_count": null
  },
  {
   "metadata": {
    "jupyter": {
     "is_executing": true
    }
   },
   "cell_type": "code",
   "source": [
    "from sklearn.cluster import AgglomerativeClustering\n",
    "X = era5_hannachi[var[:-1]]\n",
    "hc = AgglomerativeClustering(n_clusters=3,\n",
    "                             linkage='complete',\n",
    "                             compute_distances=True).fit(X)\n",
    "hc_label = hc.labels_"
   ],
   "id": "d9d9888905bdd7ee",
   "outputs": [],
   "execution_count": null
  },
  {
   "metadata": {
    "jupyter": {
     "is_executing": true
    }
   },
   "cell_type": "code",
   "source": [
    "from sklearn.cluster import KMeans\n",
    "\n",
    "kmeans = KMeans(n_clusters=3, n_init='auto', random_state=42).fit(X)\n",
    "kmeans_label = kmeans.labels_"
   ],
   "id": "b66995137c762888",
   "outputs": [],
   "execution_count": null
  },
  {
   "metadata": {
    "jupyter": {
     "is_executing": true
    }
   },
   "cell_type": "code",
   "source": [
    "era5_hannachi['hc'] = hc_label\n",
    "era5_hannachi['kmeans'] = kmeans_label\n",
    "# compare label with mw, c/d, s/d\n",
    "corr = era5_hannachi.corr()\n",
    "corr[['kmeans', 'hc']].style.background_gradient(vmin=-1, vmax=1, cmap='RdBu')"
   ],
   "id": "d4e4fae6907566b8",
   "outputs": [],
   "execution_count": null
  },
  {
   "metadata": {
    "jupyter": {
     "is_executing": true
    }
   },
   "cell_type": "code",
   "source": [
    "print(era5_hannachi.shape)\n",
    "print(\"Label distribution by hierarchical clustering: \")\n",
    "print('0 : ', era5_hannachi[era5_hannachi.hc == 0].shape) # 74\n",
    "print('1 : ', era5_hannachi[era5_hannachi.hc == 1].shape) # 403\n",
    "print('2 : ', era5_hannachi[era5_hannachi.hc == 2].shape) # 4624\n",
    "\n",
    "print(\"Label distribution by kmeans clustering: \")\n",
    "print('0 : ', era5_hannachi[era5_hannachi.kmeans == 0].shape) # 74\n",
    "print('1 : ', era5_hannachi[era5_hannachi.kmeans == 1].shape) # 403\n",
    "print('2 : ', era5_hannachi[era5_hannachi.kmeans == 2].shape) # 4624"
   ],
   "id": "2ef6d9440bcaee07",
   "outputs": [],
   "execution_count": null
  },
  {
   "metadata": {},
   "cell_type": "markdown",
   "source": [
    "### Results from Hannachi et al.\n",
    "\n",
    "| AR and Latc of vortex/AR, Lat, filtered vortex area | D  | U  | S  | Total |\n",
    "|-----------------------------------------------------|----|----|----|-------|\n",
    "| D                                                   | 7  |  3 | 0  | 10    |\n",
    "| U                                                   | 4  | 80 | 2  | 86    |\n",
    "| S                                                   | 1  | 0  | 3  | 4     |\n",
    "| Total                                               | 12 | 83 | 5  | 100   |\n",
    "\n",
    "### Results with Agglomorative Clustering:\n",
    "\n",
    "| Label | Absolut | Perc (%) | Comment                                                                                                      |\n",
    "|-------|---------|----------|--------------------------------------------------------------------------------------------------------------|\n",
    "| 0     | 74      | 1,5      | Probably S<br/>Remains the same when removing other features<br/>74 when only area, latcent and ar were used |\n",
    "| 1     | 403     | 8        | Probably D  <br/> Varies wildly when features removed                                                        |\n",
    "| 2     | 4624    | 90,6     | Probably U  <br/>Varies wildly when features removed                                                         |\n",
    "| Total | 5101    | 100      | --                                                                                                           |\n",
    "\n",
    "Influence of different linkages:\n",
    "- complete: used by Hannachi, dendogram does not indicate 3 clusters\n",
    "- ward: appears similar to kmeans in distribution\n",
    "- single: makes very weird Cluster with distribution 70, 4, 5027; indicates 3 Clusters\n",
    "- average: makes also weird Cluster with distribution 70, 23, 5008; indicates 3 Clusters\n",
    "\n",
    "### Results with kmeans Clustering:\n",
    "\n",
    "| Label | Absolut | Perc (%)   | Comment                                                                                                      |\n",
    "|-------|---------|------------|--------------------------------------------------------------------------------------------------------------|\n",
    "| 0     | 2000    | 39,25      | Maybe D  <br/> Varies wildly, depending on features and random seed                                          |\n",
    "| 1     | 79      | 1,5        | Probably S<br/>Remains the same when removing other features<br/>74 when only area, latcent and ar were used |\n",
    "| 2     | 3022    | 59,25      | Maybe U  <br/>Varies wildly, just as D                                                                       |\n",
    "| Total | 5101    | 100        | --                                                                                                           \n",
    "\n",
    "#### Evaluation\n",
    "S and U are underrepresented. Different measures?\n",
    "Go for troubleshooting:\n",
    "- Outliers? (~75?)\n",
    "- Can I - based on my available data - differentiate between S, U, D?\n",
    "- Data differences (s. previous part)\n",
    "- Description of found cluster matching with Hannachi/general what are they?\n",
    "\n",
    "Hierarchical cluster depends severly on **area**"
   ],
   "id": "f017c9b2b8b902aa"
  },
  {
   "metadata": {
    "jupyter": {
     "is_executing": true
    }
   },
   "cell_type": "code",
   "source": [
    "fig = plt.figure(figsize=(10,10))\n",
    "plt.title('Dendogram of Agglomerative Clustering')\n",
    "plot.plot_dendrogram(hc, truncate_mode='level', p=3, savefig='output/dendrogram_hc.png')\n",
    "plt.show()"
   ],
   "id": "447dd6aeac30f5cc",
   "outputs": [],
   "execution_count": null
  },
  {
   "metadata": {
    "jupyter": {
     "is_executing": true
    }
   },
   "cell_type": "code",
   "source": [
    "pc=13\n",
    "compute_pca(era5_hannachi, comp=pc, plot_type='3D', savefig='output/pca_era5_3D.png')\n",
    "compute_pca(era5_hannachi, comp=pc, plot_type='2D', savefig='output/pca_era5_2D.png')\n",
    "era5_hannachi['label'] = era5_hannachi['hc']\n",
    "compute_pca(era5_hannachi, comp=pc, plot_type='3D', savefig='output/pca_era5_hc_3D.png')\n",
    "compute_pca(era5_hannachi, comp=pc, plot_type='2D', savefig='output/pca_era5_hc_2D.png')\n",
    "era5_hannachi['label'] = era5_hannachi['kmeans']\n",
    "compute_pca(era5_hannachi, comp=pc, plot_type='3D', savefig='output/pca_era5_kmeans_3D.png')\n",
    "compute_pca(era5_hannachi, comp=pc, plot_type='2D', savefig='output/pca_era5_kmeans_2D.png')"
   ],
   "id": "12fd5f7822124093",
   "outputs": [],
   "execution_count": null
  },
  {
   "metadata": {
    "jupyter": {
     "is_executing": true
    }
   },
   "cell_type": "code",
   "source": "",
   "id": "d102a6f16c62dc89",
   "outputs": [],
   "execution_count": null
  },
  {
   "metadata": {
    "ExecuteTime": {
     "end_time": "2025-03-02T11:28:02.015470Z",
     "start_time": "2025-03-02T11:28:02.002494Z"
    }
   },
   "cell_type": "code",
   "source": [
    "def own_agg(x):\n",
    "    return x.quantile(0.75)\n",
    "\n",
    "plot_radar(era5_hannachi, label='hc')"
   ],
   "id": "d6f35a090c5e0f2f",
   "outputs": [
    {
     "ename": "NameError",
     "evalue": "name 'plot_radar' is not defined",
     "output_type": "error",
     "traceback": [
      "\u001B[0;31m---------------------------------------------------------------------------\u001B[0m",
      "\u001B[0;31mNameError\u001B[0m                                 Traceback (most recent call last)",
      "Cell \u001B[0;32mIn[3], line 4\u001B[0m\n\u001B[1;32m      1\u001B[0m \u001B[38;5;28;01mdef\u001B[39;00m \u001B[38;5;21mown_agg\u001B[39m(x):\n\u001B[1;32m      2\u001B[0m     \u001B[38;5;28;01mreturn\u001B[39;00m x\u001B[38;5;241m.\u001B[39mquantile(\u001B[38;5;241m0.75\u001B[39m)\n\u001B[0;32m----> 4\u001B[0m \u001B[43mplot_radar\u001B[49m(era5_hannachi, label\u001B[38;5;241m=\u001B[39m\u001B[38;5;124m'\u001B[39m\u001B[38;5;124mhc\u001B[39m\u001B[38;5;124m'\u001B[39m)\n",
      "\u001B[0;31mNameError\u001B[0m: name 'plot_radar' is not defined"
     ]
    }
   ],
   "execution_count": 3
  },
  {
   "metadata": {
    "jupyter": {
     "is_executing": true
    }
   },
   "cell_type": "code",
   "source": [
    "import numpy as np\n",
    "import matplotlib.pyplot as plt\n",
    "import cartopy.crs as ccrs\n",
    "import cartopy.feature as cfeature\n",
    "import pandas as pd\n",
    "\n",
    "def plot_with_dataframe(df, P=10, T=-50):\n",
    "    \"\"\"\n",
    "    Plots a polar stereographic map using data from a DataFrame and local coastlines.\n",
    "\n",
    "    Parameters:\n",
    "    - df (pd.DataFrame): DataFrame with latitude, longitude, and other relevant columns.\n",
    "    - P pressure to compute geopotential height\n",
    "    - T assumed temperature at that height\n",
    "    \"\"\"\n",
    "    \n",
    "    # Generate sample geopotential height data (replace with real computations)\n",
    "    lon = np.linspace(0, 360, 361)\n",
    "    lat = np.linspace(90, 20, 71)  # From the North Pole to mid-latitudes\n",
    "    lon2d, lat2d = np.meshgrid(lon, lat)\n",
    "    \n",
    "    # Note: gph kann sich ändern, als Linien ergänzen?\n",
    "    # # compute geopotential height\n",
    "    T = T+ZERO_DEG # convert T to Kelvin\n",
    "    z = R*T/g*np.log(P0/P)\n",
    "    gph = np.full_like(lon2d, z) \n",
    "\n",
    "    # Extract specific columns from the DataFrame\n",
    "    lat_points = df['latcent']\n",
    "    lon_points = df['loncent']\n",
    "\n",
    "    # Create a polar stereographic plot\n",
    "    fig, ax = plt.subplots(figsize=(8, 8), subplot_kw={'projection': ccrs.NorthPolarStereo()})\n",
    "\n",
    "    # Plot data as filled contours, show changing gph as shades of grey\n",
    "    # include color bar if so\n",
    "    # contour = ax.contourf(lon2d, lat2d, gph, levels=20, transform=ccrs.PlateCarree(), cmap='Greys')\n",
    "\n",
    "    # Add contour lines for gph\n",
    "    ax.contour(lon2d, lat2d, gph, levels=10, colors='black', linewidths=1, transform=ccrs.PlateCarree())\n",
    "\n",
    "    # Add local coastlines from Cartopy's features\n",
    "    coastlines = cfeature.NaturalEarthFeature('physical', 'coastline', '50m', edgecolor='black', facecolor='none')\n",
    "    ax.add_feature(coastlines, linewidth=0.5)\n",
    "\n",
    "    # Add points from the DataFrame\n",
    "    ax.scatter(lon_points, lat_points, color='red', s=10, transform=ccrs.PlateCarree(), label='Data Points')\n",
    "\n",
    "    # Add gridlines\n",
    "    ax.gridlines(draw_labels=False, color='gray', linestyle='--')\n",
    "\n",
    "    # Set the extent (view) for the polar plot\n",
    "    # ax.set_extent([-180, 180, 20, 90], crs=ccrs.PlateCarree())\n",
    "\n",
    "    # Add a colorbar\n",
    "    # cbar = plt.colorbar(contour, ax=ax, orientation='horizontal', pad=0.05, shrink=0.8)\n",
    "    # cbar.set_label('Geopotential Height (gpm)')\n",
    "\n",
    "    # Add a legend\n",
    "    ax.legend(loc='lower left')\n",
    "    fig.autofmt_xdate(rotation=45)\n",
    "\n",
    "\n",
    "# Call the function\n",
    "plot_with_dataframe(era5_hannachi[era5_hannachi['year'] == 1963][['latcent', 'loncent']])\n"
   ],
   "id": "742cd50ced113607",
   "outputs": [],
   "execution_count": null
  },
  {
   "metadata": {
    "jupyter": {
     "is_executing": true
    }
   },
   "cell_type": "code",
   "source": "# preprocessing",
   "id": "cf108fb287e9655c",
   "outputs": [],
   "execution_count": null
  },
  {
   "metadata": {
    "jupyter": {
     "is_executing": true
    }
   },
   "cell_type": "code",
   "source": "# clustering",
   "id": "7807ebd2e780aae6",
   "outputs": [],
   "execution_count": null
  },
  {
   "metadata": {
    "ExecuteTime": {
     "end_time": "2025-03-02T11:19:22.544051Z",
     "start_time": "2025-03-02T11:19:22.541392Z"
    }
   },
   "cell_type": "code",
   "source": "# visualisation",
   "id": "94ad747672896088",
   "outputs": [],
   "execution_count": 1
  },
  {
   "metadata": {
    "ExecuteTime": {
     "end_time": "2025-03-02T11:19:22.546930Z",
     "start_time": "2025-03-02T11:19:22.545234Z"
    }
   },
   "cell_type": "code",
   "source": "",
   "id": "df7ba868ff830648",
   "outputs": [],
   "execution_count": 1
  },
  {
   "metadata": {
    "ExecuteTime": {
     "end_time": "2025-03-02T11:19:22.646701Z",
     "start_time": "2025-03-02T11:19:22.547630Z"
    }
   },
   "cell_type": "code",
   "source": "era5[era5['year'] == 1963][['latcent', 'loncent']]",
   "id": "446a2a39860eed34",
   "outputs": [
    {
     "ename": "NameError",
     "evalue": "name 'era5' is not defined",
     "output_type": "error",
     "traceback": [
      "\u001B[0;31m---------------------------------------------------------------------------\u001B[0m",
      "\u001B[0;31mNameError\u001B[0m                                 Traceback (most recent call last)",
      "Cell \u001B[0;32mIn[2], line 1\u001B[0m\n\u001B[0;32m----> 1\u001B[0m \u001B[43mera5\u001B[49m[era5[\u001B[38;5;124m'\u001B[39m\u001B[38;5;124myear\u001B[39m\u001B[38;5;124m'\u001B[39m] \u001B[38;5;241m==\u001B[39m \u001B[38;5;241m1963\u001B[39m][[\u001B[38;5;124m'\u001B[39m\u001B[38;5;124mlatcent\u001B[39m\u001B[38;5;124m'\u001B[39m, \u001B[38;5;124m'\u001B[39m\u001B[38;5;124mloncent\u001B[39m\u001B[38;5;124m'\u001B[39m]]\n",
      "\u001B[0;31mNameError\u001B[0m: name 'era5' is not defined"
     ]
    }
   ],
   "execution_count": 2
  }
 ],
 "metadata": {
  "kernelspec": {
   "display_name": "Python 3",
   "language": "python",
   "name": "python3"
  },
  "language_info": {
   "codemirror_mode": {
    "name": "ipython",
    "version": 2
   },
   "file_extension": ".py",
   "mimetype": "text/x-python",
   "name": "python",
   "nbconvert_exporter": "python",
   "pygments_lexer": "ipython2",
   "version": "2.7.6"
  }
 },
 "nbformat": 4,
 "nbformat_minor": 5
}
