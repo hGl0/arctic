{
 "cells": [
  {
   "cell_type": "code",
   "id": "initial_id",
   "metadata": {
    "collapsed": true,
    "ExecuteTime": {
     "end_time": "2025-01-20T10:18:59.340290Z",
     "start_time": "2025-01-20T10:18:59.336975Z"
    }
   },
   "source": [
    "from src.arctic import *\n",
    "import pandas as pd\n",
    "import seaborn as sns\n",
    "import matplotlib.pyplot as plt\n",
    "import numpy as np"
   ],
   "outputs": [],
   "execution_count": 1
  },
  {
   "metadata": {},
   "cell_type": "markdown",
   "source": [
    "### Given Data\n",
    "- from Institute of Atmospheric Physics Kühlungsborn (IAP)\n",
    "- Differentiated between ERA5 and UA-ICON(NWP) data\n",
    "\n",
    "1. ERA5: daily means at pressure levels and analysis\n",
    "    - Intercomparison with Hannachi et al. (2011)\n",
    "    - SWE1.tar: contains major warming diagnostics\n",
    "    - SWE1.tar: elliptic diagnostics of Z10\n",
    "    - SWX1.tar: extended diagnostics (reachable via VPN)\n",
    "    - SWC1.tar: classfiication synthesis (reachable via VPN)\n",
    "2. NWP4A60: data at pressure levels and analysis\n",
    "    - SWM2.tar: major warming diagnostics\n",
    "    - SWE2.tar: elliptic diagnostics of Z10\n",
    "    - SWX2.tar: extended diagnostics (VPN)\n",
    "    - SWC2.tar: classification synthesis (VPN)\n",
    "\n",
    "#### File structure\n",
    "netCDF files are 3-dimensional data, investigated with ncdump. .tar-files contain all output from Christoph Zülickes diagnosis, in particular:\n",
    "- SWM: ASCII values in 2 files, \n",
    "    - a) *cen.csv with the major warming events as identified with their central day when the wind turned from westerly to easterly along with some characteristics and\n",
    "    - b) *msw.csv with daily lists with wind and a marker mw for major warming\n",
    "- SWE: 1 csv file\n",
    "    - *d.csv: daily list of indices, including the aspect ratio of the mother vortex (ar), centrail latitude (latcent) and area (area)"
   ],
   "id": "7e385f24854a387c"
  },
  {
   "metadata": {
    "ExecuteTime": {
     "end_time": "2025-01-20T10:30:17.802041Z",
     "start_time": "2025-01-20T10:30:17.465611Z"
    }
   },
   "cell_type": "code",
   "source": [
    "# load data\n",
    "# preliminary, ideally include api from climate data storage (cds)\n",
    "era5_d = pd.read_csv(\"data/SWXClust/ERA5/e5e1_d.csv\", skiprows=75)\n",
    "era5_cen = pd.read_csv(\"data/SWXClust/ERA5/e5m1t-cen.csv\", skiprows=30)\n",
    "era5_msw = pd.read_csv(\"data/SWXClust/ERA5/e5m1t-msw.csv\", skiprows=25)\n",
    "\n",
    "nwp_d = pd.read_csv(\"data/SWXClust/NWP4A60/i4a60e2_d.csv\", skiprows=75)\n",
    "nwp_cen= pd.read_csv(\"data/SWXClust/NWP4A60/i4a60m2t-cen.csv\", skiprows=30)\n",
    "nwp_msw = pd.read_csv(\"data/SWXClust/NWP4A60/i4a60m2t-msw.csv\", skiprows=25)"
   ],
   "id": "fd56564474bf42fc",
   "outputs": [],
   "execution_count": 30
  },
  {
   "metadata": {
    "ExecuteTime": {
     "end_time": "2025-01-20T10:33:50.987229Z",
     "start_time": "2025-01-20T10:33:50.980762Z"
    }
   },
   "cell_type": "code",
   "source": [
    "# delete space in front of strings\n",
    "def no_white_space(df, sep = ' '):\n",
    "    col = []\n",
    "    for c in df.columns:\n",
    "        col.append(c.split(sep)[-1])\n",
    "    df.columns = col\n",
    "\n",
    "no_white_space(era5_d)\n",
    "no_white_space(era5_cen)\n",
    "no_white_space(era5_msw)\n",
    "\n",
    "no_white_space(nwp_d)\n",
    "no_white_space(nwp_cen)\n",
    "no_white_space(nwp_msw)\n",
    "\n",
    "era5_d = era5_d.iloc[4:, :]\n",
    "nwp_d = nwp_d.iloc[4:, :]\n",
    "\n",
    "era5_d.columns"
   ],
   "id": "ef033fa29055b3e2",
   "outputs": [
    {
     "data": {
      "text/plain": [
       "Index(['D', 'counter', 'time', 'string', 'year', 'month', 'day', 'hour',\n",
       "       'level', 'edge', 'form', 'area', 'obj_area', 'latcent', 'loncent',\n",
       "       'theta', 'ar', 'kurtosis', 'area1', 'obj_area1', 'latcent1', 'loncent1',\n",
       "       'theta1', 'ar1', 'area2', 'obj_area2', 'latcent2', 'loncent2', 'theta2',\n",
       "       'ar2', 'amp0', 'amp1', 'amp2', 'lon1', 'lon2'],\n",
       "      dtype='object')"
      ]
     },
     "execution_count": 38,
     "metadata": {},
     "output_type": "execute_result"
    }
   ],
   "execution_count": 38
  },
  {
   "metadata": {},
   "cell_type": "markdown",
   "source": [
    "### Focus and To Do\n",
    "- ERA5 Data, replicate results from Hannachi\n",
    "- descriptive statistics:\n",
    "    - PSA\n",
    "    - correlation matrix/chi2\n",
    "- hierarchical Clustering, k-means, k-nearest neighbours\n"
   ],
   "id": "d100c43535565f28"
  },
  {
   "metadata": {
    "ExecuteTime": {
     "end_time": "2025-01-20T10:33:52.512702Z",
     "start_time": "2025-01-20T10:33:52.510034Z"
    }
   },
   "cell_type": "code",
   "source": "",
   "id": "92d5a3c6315613af",
   "outputs": [],
   "execution_count": 38
  },
  {
   "metadata": {
    "ExecuteTime": {
     "end_time": "2025-01-20T10:34:04.366181Z",
     "start_time": "2025-01-20T10:34:04.364207Z"
    }
   },
   "cell_type": "code",
   "source": "",
   "id": "742cd50ced113607",
   "outputs": [],
   "execution_count": 39
  },
  {
   "metadata": {
    "ExecuteTime": {
     "end_time": "2025-01-18T17:07:47.601876Z",
     "start_time": "2025-01-18T17:07:47.599379Z"
    }
   },
   "cell_type": "code",
   "source": "# preprocessing",
   "id": "cf108fb287e9655c",
   "outputs": [],
   "execution_count": 8
  },
  {
   "metadata": {},
   "cell_type": "code",
   "outputs": [],
   "execution_count": null,
   "source": "# clustering",
   "id": "7807ebd2e780aae6"
  },
  {
   "metadata": {
    "ExecuteTime": {
     "end_time": "2025-01-18T11:07:46.433178Z",
     "start_time": "2025-01-18T11:07:46.431152Z"
    }
   },
   "cell_type": "code",
   "source": "# visualisation",
   "id": "94ad747672896088",
   "outputs": [],
   "execution_count": 3
  },
  {
   "metadata": {},
   "cell_type": "code",
   "outputs": [],
   "execution_count": null,
   "source": "",
   "id": "df7ba868ff830648"
  }
 ],
 "metadata": {
  "kernelspec": {
   "display_name": "Python 3",
   "language": "python",
   "name": "python3"
  },
  "language_info": {
   "codemirror_mode": {
    "name": "ipython",
    "version": 2
   },
   "file_extension": ".py",
   "mimetype": "text/x-python",
   "name": "python",
   "nbconvert_exporter": "python",
   "pygments_lexer": "ipython2",
   "version": "2.7.6"
  }
 },
 "nbformat": 4,
 "nbformat_minor": 5
}
