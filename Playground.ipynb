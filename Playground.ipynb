{
 "cells": [
  {
   "metadata": {},
   "cell_type": "markdown",
   "source": [
    "## Jupyter Notebook to demonstrate usage of ARTIC\n",
    "### Open questions\n",
    "- Connectivity matrix from Hannachi et al.? Do they have one? With what created?\n",
    "- Different amount of samples between *_d and *_msw"
   ],
   "id": "c2fd6f7b52fe6a86"
  },
  {
   "cell_type": "code",
   "id": "initial_id",
   "metadata": {
    "collapsed": true,
    "ExecuteTime": {
     "end_time": "2025-01-31T12:35:56.935315Z",
     "start_time": "2025-01-31T12:35:56.931497Z"
    }
   },
   "source": [
    "from src.arctic import *\n",
    "import pandas as pd\n",
    "import datetime as dt\n",
    "import seaborn as sns\n",
    "import matplotlib.pyplot as plt\n",
    "import numpy as np"
   ],
   "outputs": [],
   "execution_count": 1
  },
  {
   "metadata": {},
   "cell_type": "markdown",
   "source": [
    "### Given Data\n",
    "- from Institute of Atmospheric Physics Kühlungsborn (IAP)\n",
    "- Differentiated between ERA5 and UA-ICON(NWP) data\n",
    "\n",
    "1. ERA5: daily means at pressure levels and analysis\n",
    "    - Intercomparison with Hannachi et al. (2011)\n",
    "    - SWE1.tar: contains major warming diagnostics\n",
    "    - SWE1.tar: elliptic diagnostics of Z10\n",
    "    - SWX1.tar: extended diagnostics (reachable via VPN)\n",
    "    - SWC1.tar: classfiication synthesis (reachable via VPN)\n",
    "2. NWP4A60: data at pressure levels and analysis\n",
    "    - SWM2.tar: major warming diagnostics\n",
    "    - SWE2.tar: elliptic diagnostics of Z10\n",
    "    - SWX2.tar: extended diagnostics (VPN)\n",
    "    - SWC2.tar: classification synthesis (VPN)\n",
    "\n",
    "#### File structure\n",
    "netCDF files are 3-dimensional data, investigated with ncdump. The .tar-files contain all output from Christoph Zülickes diagnosis, in particular:\n",
    "- SWM: ASCII values in 2 files, \n",
    "    1. *cen.csv with the major warming events as identified with their central day when the wind turned from westerly to easterly along with some characteristics and\n",
    "    2. *msw.csv with daily lists with wind and a marker mw for major warming\n",
    "- SWE: 1 csv file\n",
    "    - *d.csv: daily list of indices, including the aspect ratio of the mother vortex (ar), centrail latitude (latcent) and area (area)"
   ],
   "id": "7e385f24854a387c"
  },
  {
   "metadata": {
    "ExecuteTime": {
     "end_time": "2025-01-31T12:35:57.290756Z",
     "start_time": "2025-01-31T12:35:56.937102Z"
    }
   },
   "cell_type": "code",
   "source": [
    "# load data\n",
    "# preliminary, ideally include api from climate data storage (cds)\n",
    "era5_d = pd.read_csv(\"data/SWXClust/ERA5/e5e1_d.csv\", skiprows=75)\n",
    "era5_cen = pd.read_csv(\"data/SWXClust/ERA5/e5m1t-cen.csv\", skiprows=30)\n",
    "era5_msw = pd.read_csv(\"data/SWXClust/ERA5/e5m1t-msw.csv\", skiprows=25)\n",
    "\n",
    "nwp_d = pd.read_csv(\"data/SWXClust/NWP4A60/i4a60e2_d.csv\", skiprows=75)\n",
    "nwp_cen= pd.read_csv(\"data/SWXClust/NWP4A60/i4a60m2t-cen.csv\", skiprows=30)\n",
    "nwp_msw = pd.read_csv(\"data/SWXClust/NWP4A60/i4a60m2t-msw.csv\", skiprows=25)"
   ],
   "id": "fd56564474bf42fc",
   "outputs": [],
   "execution_count": 2
  },
  {
   "metadata": {
    "ExecuteTime": {
     "end_time": "2025-01-31T12:35:59.911404Z",
     "start_time": "2025-01-31T12:35:57.292572Z"
    }
   },
   "cell_type": "code",
   "source": [
    "# delete space in front of strings\n",
    "def no_white_space(df, sep = ' '):\n",
    "    col = []\n",
    "    for c in df.columns:\n",
    "        col.append(c.split(sep)[-1])\n",
    "    df.columns = col\n",
    "    \n",
    "# convert strings to actual dates\n",
    "def to_date(df, col, format='mixed'):\n",
    "    df[col] = pd.to_datetime(df[col], format=format)\n",
    "\n",
    "# remove white space from column names\n",
    "no_white_space(era5_d)\n",
    "no_white_space(era5_cen)\n",
    "no_white_space(era5_msw)\n",
    "\n",
    "# no_white_space(nwp_d)\n",
    "# no_white_space(nwp_cen)\n",
    "# no_white_space(nwp_msw)\n",
    "\n",
    "\n",
    "# remove empty rows from files\n",
    "era5_d = era5_d[era5_d['string'].notna()]\n",
    "era5_cen = era5_cen[era5_cen['string'].notna()]\n",
    "era5_msw = era5_msw[era5_msw['string'].notna()]\n",
    "\n",
    "# nwp_d = nwp_d[nwp_d['string'].notna()]\n",
    "# nwp_cen = nwp_cen[nwp_cen['string'].notna()]\n",
    "# nwp_msw = nwp_msw[nwp_msw['string'].notna()]\n",
    "\n",
    "\n",
    "# change string to datetime for better comparison\n",
    "to_date(era5_d, 'string')\n",
    "to_date(era5_cen, 'string')\n",
    "to_date(era5_msw, 'string')\n",
    "\n",
    "# drop where string is nan (empty lines)\n",
    "era5_d = era5_d.replace('                   ' ,np.NaN)\n",
    "\n",
    "era5_d.head()"
   ],
   "id": "ef033fa29055b3e2",
   "outputs": [
    {
     "data": {
      "text/plain": [
       "   D  counter        time              string    year  month  day  hour  \\\n",
       "4  D      1.0  2438031.25 1963-01-01 18:00:00  1963.0    1.0  1.0  18.0   \n",
       "5  D      2.0  2438032.25 1963-02-01 18:00:00  1963.0    1.0  2.0  18.0   \n",
       "6  D      3.0  2438033.25 1963-03-01 18:00:00  1963.0    1.0  3.0  18.0   \n",
       "7  D      4.0  2438034.25 1963-04-01 18:00:00  1963.0    1.0  4.0  18.0   \n",
       "8  D      5.0  2438035.25 1963-05-01 18:00:00  1963.0    1.0  5.0  18.0   \n",
       "\n",
       "   level  edge  ... obj_area2  latcent2  loncent2  theta2  ar2  amp0     amp1  \\\n",
       "4   10.0  29.2  ...       NaN       NaN       NaN     NaN  NaN  27.9  0.01040   \n",
       "5   10.0  29.2  ...       NaN       NaN       NaN     NaN  NaN  27.9  0.00858   \n",
       "6   10.0  29.2  ...       NaN       NaN       NaN     NaN  NaN  27.9  0.01120   \n",
       "7   10.0  29.2  ...       NaN       NaN       NaN     NaN  NaN  27.8  0.01190   \n",
       "8   10.0  29.2  ...       NaN       NaN       NaN     NaN  NaN  27.8  0.01080   \n",
       "\n",
       "     amp2 lon1 lon2  \n",
       "4  0.0111  5.4 -2.5  \n",
       "5  0.0097  3.3 -2.3  \n",
       "6  0.0123  0.4 -2.7  \n",
       "7  0.0126  2.1 -2.5  \n",
       "8  0.0117  7.1 -2.5  \n",
       "\n",
       "[5 rows x 35 columns]"
      ],
      "text/html": [
       "<div>\n",
       "<style scoped>\n",
       "    .dataframe tbody tr th:only-of-type {\n",
       "        vertical-align: middle;\n",
       "    }\n",
       "\n",
       "    .dataframe tbody tr th {\n",
       "        vertical-align: top;\n",
       "    }\n",
       "\n",
       "    .dataframe thead th {\n",
       "        text-align: right;\n",
       "    }\n",
       "</style>\n",
       "<table border=\"1\" class=\"dataframe\">\n",
       "  <thead>\n",
       "    <tr style=\"text-align: right;\">\n",
       "      <th></th>\n",
       "      <th>D</th>\n",
       "      <th>counter</th>\n",
       "      <th>time</th>\n",
       "      <th>string</th>\n",
       "      <th>year</th>\n",
       "      <th>month</th>\n",
       "      <th>day</th>\n",
       "      <th>hour</th>\n",
       "      <th>level</th>\n",
       "      <th>edge</th>\n",
       "      <th>...</th>\n",
       "      <th>obj_area2</th>\n",
       "      <th>latcent2</th>\n",
       "      <th>loncent2</th>\n",
       "      <th>theta2</th>\n",
       "      <th>ar2</th>\n",
       "      <th>amp0</th>\n",
       "      <th>amp1</th>\n",
       "      <th>amp2</th>\n",
       "      <th>lon1</th>\n",
       "      <th>lon2</th>\n",
       "    </tr>\n",
       "  </thead>\n",
       "  <tbody>\n",
       "    <tr>\n",
       "      <th>4</th>\n",
       "      <td>D</td>\n",
       "      <td>1.0</td>\n",
       "      <td>2438031.25</td>\n",
       "      <td>1963-01-01 18:00:00</td>\n",
       "      <td>1963.0</td>\n",
       "      <td>1.0</td>\n",
       "      <td>1.0</td>\n",
       "      <td>18.0</td>\n",
       "      <td>10.0</td>\n",
       "      <td>29.2</td>\n",
       "      <td>...</td>\n",
       "      <td>NaN</td>\n",
       "      <td>NaN</td>\n",
       "      <td>NaN</td>\n",
       "      <td>NaN</td>\n",
       "      <td>NaN</td>\n",
       "      <td>27.9</td>\n",
       "      <td>0.01040</td>\n",
       "      <td>0.0111</td>\n",
       "      <td>5.4</td>\n",
       "      <td>-2.5</td>\n",
       "    </tr>\n",
       "    <tr>\n",
       "      <th>5</th>\n",
       "      <td>D</td>\n",
       "      <td>2.0</td>\n",
       "      <td>2438032.25</td>\n",
       "      <td>1963-02-01 18:00:00</td>\n",
       "      <td>1963.0</td>\n",
       "      <td>1.0</td>\n",
       "      <td>2.0</td>\n",
       "      <td>18.0</td>\n",
       "      <td>10.0</td>\n",
       "      <td>29.2</td>\n",
       "      <td>...</td>\n",
       "      <td>NaN</td>\n",
       "      <td>NaN</td>\n",
       "      <td>NaN</td>\n",
       "      <td>NaN</td>\n",
       "      <td>NaN</td>\n",
       "      <td>27.9</td>\n",
       "      <td>0.00858</td>\n",
       "      <td>0.0097</td>\n",
       "      <td>3.3</td>\n",
       "      <td>-2.3</td>\n",
       "    </tr>\n",
       "    <tr>\n",
       "      <th>6</th>\n",
       "      <td>D</td>\n",
       "      <td>3.0</td>\n",
       "      <td>2438033.25</td>\n",
       "      <td>1963-03-01 18:00:00</td>\n",
       "      <td>1963.0</td>\n",
       "      <td>1.0</td>\n",
       "      <td>3.0</td>\n",
       "      <td>18.0</td>\n",
       "      <td>10.0</td>\n",
       "      <td>29.2</td>\n",
       "      <td>...</td>\n",
       "      <td>NaN</td>\n",
       "      <td>NaN</td>\n",
       "      <td>NaN</td>\n",
       "      <td>NaN</td>\n",
       "      <td>NaN</td>\n",
       "      <td>27.9</td>\n",
       "      <td>0.01120</td>\n",
       "      <td>0.0123</td>\n",
       "      <td>0.4</td>\n",
       "      <td>-2.7</td>\n",
       "    </tr>\n",
       "    <tr>\n",
       "      <th>7</th>\n",
       "      <td>D</td>\n",
       "      <td>4.0</td>\n",
       "      <td>2438034.25</td>\n",
       "      <td>1963-04-01 18:00:00</td>\n",
       "      <td>1963.0</td>\n",
       "      <td>1.0</td>\n",
       "      <td>4.0</td>\n",
       "      <td>18.0</td>\n",
       "      <td>10.0</td>\n",
       "      <td>29.2</td>\n",
       "      <td>...</td>\n",
       "      <td>NaN</td>\n",
       "      <td>NaN</td>\n",
       "      <td>NaN</td>\n",
       "      <td>NaN</td>\n",
       "      <td>NaN</td>\n",
       "      <td>27.8</td>\n",
       "      <td>0.01190</td>\n",
       "      <td>0.0126</td>\n",
       "      <td>2.1</td>\n",
       "      <td>-2.5</td>\n",
       "    </tr>\n",
       "    <tr>\n",
       "      <th>8</th>\n",
       "      <td>D</td>\n",
       "      <td>5.0</td>\n",
       "      <td>2438035.25</td>\n",
       "      <td>1963-05-01 18:00:00</td>\n",
       "      <td>1963.0</td>\n",
       "      <td>1.0</td>\n",
       "      <td>5.0</td>\n",
       "      <td>18.0</td>\n",
       "      <td>10.0</td>\n",
       "      <td>29.2</td>\n",
       "      <td>...</td>\n",
       "      <td>NaN</td>\n",
       "      <td>NaN</td>\n",
       "      <td>NaN</td>\n",
       "      <td>NaN</td>\n",
       "      <td>NaN</td>\n",
       "      <td>27.8</td>\n",
       "      <td>0.01080</td>\n",
       "      <td>0.0117</td>\n",
       "      <td>7.1</td>\n",
       "      <td>-2.5</td>\n",
       "    </tr>\n",
       "  </tbody>\n",
       "</table>\n",
       "<p>5 rows × 35 columns</p>\n",
       "</div>"
      ]
     },
     "execution_count": 3,
     "metadata": {},
     "output_type": "execute_result"
    }
   ],
   "execution_count": 3
  },
  {
   "metadata": {},
   "cell_type": "markdown",
   "source": [
    "## Features in data and their description\n",
    "#### for *cen files\n",
    "\n",
    "35x9\n",
    "\n",
    "| ERA5            | D_cen              | num               | counter_cen                   | time_cen                  | string                       | pers     | Umax         | Imax        | Iacc                         |\n",
    "|-----------------|--------------------|-------------------|-------------------------------|---------------------------|------------------------------|----------|--------------|-------------|------------------------------|\n",
    "| Values          | 'D'                | [1,35]            | [26, 21189]                   | [2438057.25, 2459220.35]  | [1963-01-27,2021-05-01]      | [2.0,29] | [-26.9,-0.9] | [1.7,780.1] | [1.4,316.5]                  |\n",
    "| Explanation     | Line start in csv? | Counter of events | Counter matching measurements | Encoding of time as float | human readablestring of date | ??       | ??           | E_max?      | accumulated easterlies (m/s) |\n",
    "| Condition       | -                  | -                 |                               |                           |                              |          |              |             |                              |\n",
    "| Normalization   | no                 | no                |                               |                           |                              |          |              |             |                              |\n",
    "| Value for model | None               | Probably none     | Merge key                     | Merge key                 | Merge key                    |          |              |             |                              |\n",
    "\n",
    "#### for *msw files\n",
    "\n",
    "21914x6\n",
    "\n",
    "| ERA5            | D_msw              | counter_msw                                                 | time_msw                   | string                      | u                             | MW                  |\n",
    "|-----------------|--------------------|-------------------------------------------------------------|----------------------------|-----------------------------|-------------------------------|---------------------|\n",
    "| Values          | 'D'                | [1, 21914]                                                  | [2438032.25, 2459944.25]   | String encoding of date     | [-28.8, 73.5]                 | [0,1] (i.e. no/yes) |\n",
    "| Explanation     | Line start in csv? | Counter of events, <br/>each daily measurement gets counter | Encoding of time as float? | human readable form of date | Velocity of wind? **unclear** | marks major warming |\n",
    "| Condition       | -                  |                                                             |                            |                             | ??                            |                     |\n",
    "| Normalization   | no                 | no                                                          | unclear                    | no                          |                               | no                  |\n",
    "| Value for Model | None               | Merge key                                                   | Merge key                  | Merge key                   | ??                            | should be included  |\n",
    "\n",
    "\n",
    "\n",
    "#### for *d files\n",
    "\n",
    "22403x35\n",
    "\n",
    "21425 + 978 (D vs. S)\n",
    "\n",
    "**bold font**: unclear meaning\n",
    "\n",
    "| ERA5         | Values                   | Explanation                                           | Condition                          | Normalisation | Value for Model                                             |\n",
    "|--------------|--------------------------|-------------------------------------------------------|------------------------------------|---------------|-------------------------------------------------------------|\n",
    "| D            | ['C', 'D']               | Vortex type?                                          | Disturbed/Central?                 | -             | Control?                                                    |\n",
    "| counter      | [1,21914]                | matches with *msw file, counter of daily measurements | -                                  | -             | Merge Key?                                                  |\n",
    "| time_d       | [2438031.25, 2459944.25] | Encoding of time as float?                            | -                                  | unclear       | Merge Key                                                   |\n",
    "| string       | [1963-01-01, 2022-12-30] | Human readable/string form of date                    |                                    |               | Merge Key                                                   |\n",
    "| year         | [1963                    | numeric form of year                                  |                                    |               | useful                                                      |\n",
    "| month        | [1,12]                   | numeric form of month                                 |                                    |               | useful                                                      |\n",
    "| day          | [1,31]                   | numeric form of day                                   |                                    |               | useful                                                      |\n",
    "| hour         | 18                       | numeric form of hour                                  |                                    |               | None, daily measurement                                     |\n",
    "| level        | 10                       | Pressure level in hPa                                 |                                    |               | Currently not huge as not varied,  important for comparison |\n",
    "| **edge**     | [28.9,        32.3]      | Edge of Vortex? °N?                                   |                                    |               |                                                             |\n",
    "| **form**     | [' D', ' S']             | Form of Vortex: Disturbed, Split                      | If split, data for \"new\" vortices? |               | Important                                                   |\n",
    "| **area**     | [7105100.0,162460000.0]  | Area of Vortex? Like in paper?                        |                                    |               |                                                             |\n",
    "| **obj_area** | [11163.0,  3850800.0]    |                                                       |                                    |               |                                                             |\n",
    "| latcent      | [50.823, 89.966]         | Latitude of centroid                                  |                                    |               |                                                             |\n",
    "| loncent      | [-89.993,269.95]         | Longitude of centroid                                 |                                    |               |                                                             |\n",
    "| **theta**    | [-1.5707, 1.5797]        |                                                       |                                    |               |                                                             |\n",
    "| ar           | [1.0001, 4.8253]         | Aspect ratio of polar vortex                          |                                    |               |                                                             |\n",
    "| kurtosis     | [-0.81021,10.235]        | Kurtosis of polar vortex                              |                                    |               |                                                             |\n",
    "| area1        | [na, 29034864.000]       | Area of split vortex 1                                | Split event?                       |               |                                                             |\n",
    "| obj_area1    | [na, 592939.812]         |                                                       |                                    |               |                                                             |\n",
    "| latcent1     | [na, 88.211]             | Latitude of centroid 1                                |                                    |               |                                                             |\n",
    "| loncent1     | [na, 269.912]            | Longitude of centroid 1                               |                                    |               |                                                             |\n",
    "| theta1       | [na, -1.569]             |                                                       |                                    |               |                                                             |\n",
    "| ar1          | [na, 3.651]              | Aspect ratio                                          |                                    |               |                                                             |\n",
    "| area2        | [na, 33281544.000]       | Area of split vortex 2                                |                                    |               |                                                             |\n",
    "| obj_area2    | [na, 635659.312]         |                                                       |                                    |               |                                                             |\n",
    "| latcent2     | [na, 87.856]             |                                                       |                                    |               |                                                             |\n",
    "| loncent2     | [na, 202.300]            |                                                       |                                    |               |                                                             |\n",
    "| theta2       | [na, -1.570]             |                                                       |                                    |               |                                                             |\n",
    "| ar2          | [na, 4.117]              |                                                       |                                    |               |                                                             |\n",
    "| **amp0**     | [27.6, 32.3]             |                                                       |                                    |               |                                                             |\n",
    "| **amp1**     | [0.000024,  0.0489]      |                                                       |                                    |               |                                                             |\n",
    "| **amp2**     | [0.000003, 0.0543]       |                                                       |                                    |               |                                                             |\n",
    "| **lon1**     | [-180.0, 180.0]          |                                                       |                                    |               |                                                             |\n",
    "| **lon2**     | [-180.0, 180.0]          |                                                       |                                    |               |                                                             |"
   ],
   "id": "c15e9ca3dc2c570e"
  },
  {
   "metadata": {},
   "cell_type": "markdown",
   "source": [
    "### Focus and To Do\n",
    "- [x] Understand relation between data sets, merge via 'string' (i.e. concrete date) possible\n",
    "- [ ] ERA5 Data, replicate results from Hannachi\n",
    "- [ ] descriptive statistics:\n",
    "    - [ ] PSA/SSA\n",
    "    - [ ] correlation matrix/chi2\n",
    "- [ ] hierarchical Clustering, k-means, k-nearest neighbours\n"
   ],
   "id": "d100c43535565f28"
  },
  {
   "metadata": {
    "ExecuteTime": {
     "end_time": "2025-01-31T12:45:08.039266Z",
     "start_time": "2025-01-31T12:45:07.973764Z"
    }
   },
   "cell_type": "code",
   "source": [
    "# merge era5 data to one big dataframe\n",
    "era5 = era5_d.merge(era5_msw, on ='string', how='left', suffixes=[None, '_msw']).merge(era5_cen, on='string', how='left', suffixes = ['_d', '_cen'])\n",
    "era5.columns"
   ],
   "id": "92d5a3c6315613af",
   "outputs": [
    {
     "data": {
      "text/plain": [
       "Index(['D_d', 'counter_d', 'time_d', 'string', 'year', 'month', 'day', 'hour',\n",
       "       'level', 'edge', 'form', 'area', 'obj_area', 'latcent', 'loncent',\n",
       "       'theta', 'ar', 'kurtosis', 'area1', 'obj_area1', 'latcent1', 'loncent1',\n",
       "       'theta1', 'ar1', 'area2', 'obj_area2', 'latcent2', 'loncent2', 'theta2',\n",
       "       'ar2', 'amp0', 'amp1', 'amp2', 'lon1', 'lon2', 'D_msw', 'counter_msw',\n",
       "       'time_msw', 'u', 'MW', 'D_cen', 'num', 'counter_cen', 'time_cen',\n",
       "       'pers', 'Umax', 'Imax', 'Iacc'],\n",
       "      dtype='object')"
      ]
     },
     "execution_count": 11,
     "metadata": {},
     "output_type": "execute_result"
    }
   ],
   "execution_count": 11
  },
  {
   "metadata": {},
   "cell_type": "markdown",
   "source": [
    "#### Reconstruction of same conditions as Hannachi et al.\n",
    "- time: winterperiod (december to march) from 1958 to 2002, activity peaks in dec - jan, oscilliation period around 120-130d\n",
    "    - Note: only data after 1963 available \n",
    "- 7 stratospheeric variables:\n",
    "\n",
    "| temp. (lat1)     | temp (lat2)      | temp. (lat3)     | avg. wind (lat1)      | avg. wind (lat2) | wave-1                    | wave-2                    |\n",
    "|------------------|------------------|------------------|-----------------------|------------------|---------------------------|---------------------------|\n",
    "| Zonally averaged | Zonally averaged | Zonally averaged | Zonally averaged <br/ | Zonally averaged | Normalised by zonal winds | Normalised by zonal winds |\n",
    "| 60-70°N          | 70-80°N          | 80-90°N          | 60-70°N               | 70-80°N          | 60°N                      | 60°N                      |\n",
    "\n",
    "- 7 pressure levels between 100 to 1hPa\n",
    "- geometrical features: latitude centroid (lat), area (area), aspect ratio (AR) - kurtosis omitted due to domination of outliers\n",
    "\n",
    "#### Approaches\n",
    "1. Hierarchical Clustering\n",
    "    - Used distance: Euclidean distance\n",
    "    - Distance between Cluster: Complete Linkage to avoid chain and spheroidal tendencies of single and average linkage\n",
    "    - Gap statistic to find number of clusters with Poisson point process (standard)\n",
    "    - SSA to deal with seasonality and its variation\n",
    "\n",
    "|               | between points in Cluster | Different                                  |\n",
    "|---------------|---------------------------|--------------------------------------------|\n",
    "| Closest       | Single Linkage            | Centroid Linkage                           |\n",
    "| Most Distance | **Complete Linkage**      | Average Linkage (Average of all distances) |"
   ],
   "id": "f849545b50f44ce0"
  },
  {
   "metadata": {},
   "cell_type": "markdown",
   "source": [
    "### Handling NaN Values\n",
    "- *cen-file produces most NaN values in data due to merch and marking special events &rArr; 0 not used in *num, counter, time, pers, Imax, Iacc*,**Umax** has values only below -0.9 "
   ],
   "id": "4923148a8e5c2766"
  },
  {
   "metadata": {
    "ExecuteTime": {
     "end_time": "2025-01-31T12:55:27.493162Z",
     "start_time": "2025-01-31T12:55:27.475557Z"
    }
   },
   "cell_type": "code",
   "source": [
    "# reproduce same circumstances as hannachi et al.\n",
    "# time winterperiod (december to march) 1958 - 2002 \n",
    "var = ['year', 'month','day', # removed string so everything is a numeric datetype\n",
    "       'edge', 'theta',\n",
    "       'area', 'latcent', 'loncent', 'ar', 'level',  # geometric variables (latcent, area, ar, excess kurtosis) from Hannachi et al.\n",
    "       'amp0', 'amp1', 'amp2', 'lon1', 'lon2', # unclear importance, included in this version\n",
    "       'MW', 'u', # variables from *msw file\n",
    "       'pers', 'Umax', 'Imax', 'Iacc'] # variables form *cen file\n",
    "\n",
    "# enforce same time constraints\n",
    "era5_hannachi = era5[(era5['string'] < '01-01-2003') & \n",
    "                     (era5['month']).isin([12,1,2,3])][var]\n",
    "\n",
    "# handling NaN values and string encodings\n",
    "era5_hannachi['MW'] = pd.to_numeric(era5_hannachi.MW.replace({'   ': 0, ' MW' : 1}))\n",
    "era5_hannachi[era5_cen.columns[-4:]] = era5_hannachi[era5_cen.columns[-4:]].fillna(0) \n",
    "# check for completeness\n",
    "era5_hannachi.info()"
   ],
   "id": "487cb33b30586a99",
   "outputs": [
    {
     "name": "stdout",
     "output_type": "stream",
     "text": [
      "<class 'pandas.core.frame.DataFrame'>\n",
      "Index: 5101 entries, 0 to 22255\n",
      "Data columns (total 21 columns):\n",
      " #   Column   Non-Null Count  Dtype  \n",
      "---  ------   --------------  -----  \n",
      " 0   year     5101 non-null   float64\n",
      " 1   month    5101 non-null   float64\n",
      " 2   day      5101 non-null   float64\n",
      " 3   edge     5101 non-null   float64\n",
      " 4   theta    5101 non-null   float64\n",
      " 5   area     5101 non-null   float64\n",
      " 6   latcent  5101 non-null   float64\n",
      " 7   loncent  5101 non-null   float64\n",
      " 8   ar       5101 non-null   float64\n",
      " 9   level    5101 non-null   float64\n",
      " 10  amp0     5101 non-null   float64\n",
      " 11  amp1     5101 non-null   float64\n",
      " 12  amp2     5101 non-null   float64\n",
      " 13  lon1     5101 non-null   float64\n",
      " 14  lon2     5101 non-null   float64\n",
      " 15  MW       5101 non-null   int64  \n",
      " 16  u        5101 non-null   float64\n",
      " 17  pers     5101 non-null   float64\n",
      " 18  Umax     5101 non-null   float64\n",
      " 19  Imax     5101 non-null   float64\n",
      " 20  Iacc     5101 non-null   float64\n",
      "dtypes: float64(20), int64(1)\n",
      "memory usage: 876.7 KB\n"
     ]
    }
   ],
   "execution_count": 16
  },
  {
   "metadata": {},
   "cell_type": "markdown",
   "source": [
    "##### Assumption\n",
    "- Data are ready to use and preprocessed"
   ],
   "id": "f07d72747d4311ec"
  },
  {
   "metadata": {
    "ExecuteTime": {
     "end_time": "2025-01-31T12:55:48.623250Z",
     "start_time": "2025-01-31T12:55:47.903433Z"
    }
   },
   "cell_type": "code",
   "source": [
    "from sklearn.cluster import AgglomerativeClustering\n",
    "X = era5_hannachi\n",
    "cluster = AgglomerativeClustering(n_clusters=3,\n",
    "                                  linkage='complete',\n",
    "                                  compute_distances=True).fit(X)\n",
    "label = cluster.labels_"
   ],
   "id": "b66995137c762888",
   "outputs": [],
   "execution_count": 17
  },
  {
   "metadata": {
    "ExecuteTime": {
     "end_time": "2025-01-31T12:59:03.873943Z",
     "start_time": "2025-01-31T12:58:24.943121Z"
    }
   },
   "cell_type": "code",
   "source": [
    "from scipy.cluster.hierarchy import dendrogram\n",
    "\n",
    "def plot_dendrogram(model, **kwargs):\n",
    "    # Create linkage matrix and then plot the dendrogram\n",
    "\n",
    "    # create the counts of samples under each node\n",
    "    counts = np.zeros(model.children_.shape[0])\n",
    "    n_samples = len(model.labels_)\n",
    "    for i, merge in enumerate(model.children_):\n",
    "        current_count = 0\n",
    "        for child_idx in merge:\n",
    "            if child_idx < n_samples:\n",
    "                current_count += 1  # leaf node\n",
    "            else:\n",
    "                current_count += counts[child_idx - n_samples]\n",
    "        counts[i] = current_count\n",
    "\n",
    "    linkage_matrix = np.column_stack(\n",
    "        [model.children_, model.distances_, counts]\n",
    "    ).astype(float)\n",
    "\n",
    "    # Plot the corresponding dendrogram\n",
    "    dendrogram(linkage_matrix, **kwargs)\n",
    "    \n",
    "fig = plt.figure(figsize=(10,10))\n",
    "plt.title('Dendogram of Agglomerative Clustering')\n",
    "plot_dendrogram(cluster)\n",
    "plt.show()"
   ],
   "id": "447dd6aeac30f5cc",
   "outputs": [
    {
     "data": {
      "text/plain": [
       "<Figure size 1000x1000 with 1 Axes>"
      ],
      "image/png": "[encoded data removed]"
     },
     "metadata": {},
     "output_type": "display_data"
    }
   ],
   "execution_count": 19
  },
  {
   "metadata": {
    "ExecuteTime": {
     "end_time": "2025-01-31T12:59:03.888017Z",
     "start_time": "2025-01-31T12:59:03.874832Z"
    }
   },
   "cell_type": "code",
   "source": "era5.latcent.unique()",
   "id": "742cd50ced113607",
   "outputs": [
    {
     "data": {
      "text/plain": [
       "array([85.598, 86.313, 85.479, ..., 81.482, 82.678, 83.427])"
      ]
     },
     "execution_count": 20,
     "metadata": {},
     "output_type": "execute_result"
    }
   ],
   "execution_count": 20
  },
  {
   "metadata": {},
   "cell_type": "code",
   "source": "# preprocessing",
   "id": "cf108fb287e9655c",
   "outputs": [],
   "execution_count": null
  },
  {
   "metadata": {},
   "cell_type": "code",
   "source": "# clustering",
   "id": "7807ebd2e780aae6",
   "outputs": [],
   "execution_count": null
  },
  {
   "metadata": {},
   "cell_type": "code",
   "source": "# visualisation",
   "id": "94ad747672896088",
   "outputs": [],
   "execution_count": null
  },
  {
   "metadata": {},
   "cell_type": "code",
   "source": "",
   "id": "df7ba868ff830648",
   "outputs": [],
   "execution_count": null
  }
 ],
 "metadata": {
  "kernelspec": {
   "display_name": "Python 3",
   "language": "python",
   "name": "python3"
  },
  "language_info": {
   "codemirror_mode": {
    "name": "ipython",
    "version": 2
   },
   "file_extension": ".py",
   "mimetype": "text/x-python",
   "name": "python",
   "nbconvert_exporter": "python",
   "pygments_lexer": "ipython2",
   "version": "2.7.6"
  }
 },
 "nbformat": 4,
 "nbformat_minor": 5
}
